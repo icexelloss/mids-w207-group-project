{
 "cells": [
  {
   "cell_type": "markdown",
   "id": "bfeafde9",
   "metadata": {},
   "source": [
    "# Natural Language Processing with Disaster Tweets\n",
    "\n",
    "https://www.kaggle.com/c/nlp-getting-started/data"
   ]
  },
  {
   "cell_type": "code",
   "execution_count": 1,
   "id": "56511e0b",
   "metadata": {},
   "outputs": [
    {
     "name": "stdout",
     "output_type": "stream",
     "text": [
      "Train: (7613, 5)\n",
      "Test:  (3263, 4)\n"
     ]
    },
    {
     "data": {
      "text/html": [
       "<div>\n",
       "<style scoped>\n",
       "    .dataframe tbody tr th:only-of-type {\n",
       "        vertical-align: middle;\n",
       "    }\n",
       "\n",
       "    .dataframe tbody tr th {\n",
       "        vertical-align: top;\n",
       "    }\n",
       "\n",
       "    .dataframe thead th {\n",
       "        text-align: right;\n",
       "    }\n",
       "</style>\n",
       "<table border=\"1\" class=\"dataframe\">\n",
       "  <thead>\n",
       "    <tr style=\"text-align: right;\">\n",
       "      <th></th>\n",
       "      <th>id</th>\n",
       "      <th>keyword</th>\n",
       "      <th>location</th>\n",
       "      <th>text</th>\n",
       "      <th>target</th>\n",
       "    </tr>\n",
       "  </thead>\n",
       "  <tbody>\n",
       "    <tr>\n",
       "      <th>0</th>\n",
       "      <td>1</td>\n",
       "      <td>NaN</td>\n",
       "      <td>NaN</td>\n",
       "      <td>Our Deeds are the Reason of this #earthquake M...</td>\n",
       "      <td>1</td>\n",
       "    </tr>\n",
       "    <tr>\n",
       "      <th>1</th>\n",
       "      <td>4</td>\n",
       "      <td>NaN</td>\n",
       "      <td>NaN</td>\n",
       "      <td>Forest fire near La Ronge Sask. Canada</td>\n",
       "      <td>1</td>\n",
       "    </tr>\n",
       "    <tr>\n",
       "      <th>2</th>\n",
       "      <td>5</td>\n",
       "      <td>NaN</td>\n",
       "      <td>NaN</td>\n",
       "      <td>All residents asked to 'shelter in place' are ...</td>\n",
       "      <td>1</td>\n",
       "    </tr>\n",
       "    <tr>\n",
       "      <th>3</th>\n",
       "      <td>6</td>\n",
       "      <td>NaN</td>\n",
       "      <td>NaN</td>\n",
       "      <td>13,000 people receive #wildfires evacuation or...</td>\n",
       "      <td>1</td>\n",
       "    </tr>\n",
       "    <tr>\n",
       "      <th>4</th>\n",
       "      <td>7</td>\n",
       "      <td>NaN</td>\n",
       "      <td>NaN</td>\n",
       "      <td>Just got sent this photo from Ruby #Alaska as ...</td>\n",
       "      <td>1</td>\n",
       "    </tr>\n",
       "  </tbody>\n",
       "</table>\n",
       "</div>"
      ],
      "text/plain": [
       "   id keyword location                                               text  \\\n",
       "0   1     NaN      NaN  Our Deeds are the Reason of this #earthquake M...   \n",
       "1   4     NaN      NaN             Forest fire near La Ronge Sask. Canada   \n",
       "2   5     NaN      NaN  All residents asked to 'shelter in place' are ...   \n",
       "3   6     NaN      NaN  13,000 people receive #wildfires evacuation or...   \n",
       "4   7     NaN      NaN  Just got sent this photo from Ruby #Alaska as ...   \n",
       "\n",
       "   target  \n",
       "0       1  \n",
       "1       1  \n",
       "2       1  \n",
       "3       1  \n",
       "4       1  "
      ]
     },
     "execution_count": 1,
     "metadata": {},
     "output_type": "execute_result"
    }
   ],
   "source": [
    "import numpy as np\n",
    "import os\n",
    "import pandas as pd\n",
    "\n",
    "\n",
    "data_fp = os.path.join(os.getcwd(), \"data\")\n",
    "train_fp = os.path.join(data_fp, \"train.csv\")\n",
    "train_full = pd.read_csv(train_fp, encoding=\"utf-8\")\n",
    "test_fp = os.path.join(data_fp, \"test.csv\")\n",
    "test = pd.read_csv(test_fp, encoding=\"utf-8\")\n",
    "\n",
    "print(f\"Train: {train_full.shape}\")\n",
    "print(f\"Test:  {test.shape}\")\n",
    "\n",
    "train_full.head()"
   ]
  },
  {
   "cell_type": "markdown",
   "id": "c9d2c4d3",
   "metadata": {},
   "source": [
    "Kaggle supplies the test set (without target labels), so we will submit our final predictions there to get the ultimate measure of model performance. We separate 20% of the training data as a validation set."
   ]
  },
  {
   "cell_type": "code",
   "execution_count": 2,
   "id": "336d1ce6",
   "metadata": {},
   "outputs": [],
   "source": [
    "# Shuffle the index in case there are patterns in the order of the training data:\n",
    "np.random.seed(42)\n",
    "shuffled_ix = list(train_full.index)\n",
    "np.random.shuffle(shuffled_ix)\n",
    "cutoff = int(len(shuffled_ix)*0.8)\n",
    "train = train_full.loc[shuffled_ix[:cutoff]].copy()\n",
    "validation = train_full.loc[shuffled_ix[cutoff:]].copy()"
   ]
  },
  {
   "cell_type": "markdown",
   "id": "145fe8a7",
   "metadata": {},
   "source": [
    "## Base Model\n",
    "\n",
    "We use CountVectorizer and BernoulliNB to create a baseline model, and get benchmark score against the validation set.\n",
    "\n",
    "Note that the target labels are binary outcomes, so they comrpise a Bernoulli distribution where $p \\approx 0.43$. Therefore accuracy is the chosen metric of performance, since there isn't a huge class imbalance."
   ]
  },
  {
   "cell_type": "code",
   "execution_count": 3,
   "id": "077f2b2a",
   "metadata": {},
   "outputs": [
    {
     "name": "stdout",
     "output_type": "stream",
     "text": [
      "Bernoulli distribution, p = 0.43\n",
      "Mean accuracy on 5-fold cross validation = 0.80\n",
      "Validation accuracy = 0.79\n"
     ]
    },
    {
     "data": {
      "image/png": "[encoded data removed]",
      "text/plain": [
       "<Figure size 432x288 with 2 Axes>"
      ]
     },
     "metadata": {
      "needs_background": "light"
     },
     "output_type": "display_data"
    }
   ],
   "source": [
    "import numpy as np\n",
    "from sklearn.feature_extraction.text import CountVectorizer\n",
    "from sklearn.metrics import plot_confusion_matrix\n",
    "from sklearn.model_selection import cross_validate\n",
    "from sklearn.naive_bayes import BernoulliNB\n",
    "\n",
    "\n",
    "cv = CountVectorizer()\n",
    "cv.fit(train[\"text\"])\n",
    "train_arr = cv.transform(train[\"text\"])\n",
    "train_labels = train[\"target\"]\n",
    "print(f\"Bernoulli distribution, p = {train_labels.mean():.2f}\")\n",
    "model = BernoulliNB()\n",
    "crossval = cross_validate(model, train_arr, train_labels, cv=5, return_estimator=True)\n",
    "mean_score = crossval[\"test_score\"].mean()\n",
    "print(f\"Mean accuracy on 5-fold cross validation = {mean_score:.2f}\")\n",
    "best_estimator = crossval[\"estimator\"][crossval[\"test_score\"].argmax()]\n",
    "val_arr = cv.transform(validation[\"text\"])\n",
    "val_labels = validation[\"target\"]\n",
    "val_score = best_estimator.score(val_arr, val_labels)\n",
    "print(f\"Validation accuracy = {val_score:.2f}\")\n",
    "cm = plot_confusion_matrix(best_estimator, val_arr, val_labels)"
   ]
  },
  {
   "cell_type": "markdown",
   "id": "355d52ac",
   "metadata": {},
   "source": [
    "## Approach\n",
    "\n",
    "To improve the model performance we explore 2 different avenues:\n",
    "\n",
    "1. How the text data is represented. Specifically we use word embeddings.\n",
    "2. What type of model is used to learn the relationships between embeddings and the target feature.\n",
    "\n",
    "Specifically for part 1, the following word embedding schemes are explored:\n",
    "\n",
    "1. Word2Vec - pretrained\n",
    "2. Word2Vec - corpus trained\n",
    "\n",
    "For part 2, based on the results of <a href=\"https://github.com/MIDS-W207/coursework/blob/master/Readings/Week%2008/An%20Empirical%20Comparison%20of%20Supervised%20Learning%20Algorithms.pdf\">this</a> paper comparing the performance of classifiers, we try out the following 3 classifiers:\n",
    "\n",
    "1. Boosted Trees\n",
    "2. Support Vector Machines\n",
    "3. Neural Networks"
   ]
  },
  {
   "cell_type": "markdown",
   "id": "73a1dfcd",
   "metadata": {},
   "source": [
    "## Pre-Processing\n",
    "\n",
    "Since we are using Word Embeddings, we'll need to standardize the format of the input tweets."
   ]
  },
  {
   "cell_type": "code",
   "execution_count": 4,
   "id": "140b6c89",
   "metadata": {},
   "outputs": [
    {
     "name": "stderr",
     "output_type": "stream",
     "text": [
      "[nltk_data] Downloading package stopwords to /Users/tp/nltk_data...\n",
      "[nltk_data]   Package stopwords is already up-to-date!\n"
     ]
    }
   ],
   "source": [
    "import nltk  # For English stopwords.\n",
    "import re\n",
    "import string  # For removing punctuation.\n",
    "\n",
    "\n",
    "nltk.download(\"stopwords\")\n",
    "STOPWORDS = set(nltk.corpus.stopwords.words(\"english\"))\n",
    "\n",
    "\n",
    "def preprocess(tweet: str, remove_stopwords: bool = True):\n",
    "    \"\"\"Text preprocessing for a single tweet.\"\"\"\n",
    "    \n",
    "    # Convert to lowercase:\n",
    "    ptweet = tweet.lower()\n",
    "    \n",
    "    # Remove all numbers:\n",
    "    ptweet = re.sub(\"\\d+\", \" \", ptweet)\n",
    "\n",
    "    # Replace all punctuation:\n",
    "    ptweet = re.sub(f\"[{string.punctuation}]\", \" \", ptweet)\n",
    "\n",
    "    # Remove URLs:\n",
    "    ptweet = re.sub(r\"https?://\\S+|www\\.\\S+\", \"\", ptweet)\n",
    "    \n",
    "    if remove_stopwords:\n",
    "        # Use NLTK to tokenize and remove English stopwords:\n",
    "        words = nltk.word_tokenize(ptweet)\n",
    "        words = list(filter(lambda w: w not in STOPWORDS, words))\n",
    "        return \" \".join(words)\n",
    "    else:\n",
    "        return \" \".join(ptweet.split())"
   ]
  },
  {
   "cell_type": "code",
   "execution_count": 5,
   "id": "cb1b64b8",
   "metadata": {},
   "outputs": [
    {
     "name": "stdout",
     "output_type": "stream",
     "text": [
      "Original Tweet:\n",
      "   Our Deeds are the Reason of this #earthquake May ALLAH Forgive us all\n",
      "\n",
      "Processed Tweet, with stopwords:\n",
      " our deeds are the reason of this earthquake may allah forgive us all\n",
      "\n",
      "Processed Tweet, no stopwords:\n",
      " deeds reason earthquake may allah forgive us\n",
      "\n"
     ]
    }
   ],
   "source": [
    "example_tweet = train[\"text\"][0]\n",
    "print(\"Original Tweet:\\n\", f\"  {example_tweet}\\n\")\n",
    "print(\"Processed Tweet, with stopwords:\\n\", f\"{preprocess(example_tweet, remove_stopwords=False)}\\n\")\n",
    "print(\"Processed Tweet, no stopwords:\\n\", f\"{preprocess(example_tweet)}\\n\")"
   ]
  },
  {
   "cell_type": "code",
   "execution_count": 12,
   "id": "530d2d6b",
   "metadata": {},
   "outputs": [],
   "source": [
    "# Convert full training set to preprocessed formats:\n",
    "train_pp_nostopw = train[\"text\"].map(preprocess).tolist()\n",
    "train_pp_stopw = train[\"text\"].map(lambda s: preprocess(s, remove_stopwords=False)).tolist()\n",
    "val_pp_nostopw = validation[\"text\"].map(preprocess).tolist()\n",
    "val_pp_stopw = validation[\"text\"].map(lambda s: preprocess(s, remove_stopwords=False)).tolist()"
   ]
  },
  {
   "cell_type": "markdown",
   "id": "dfef5757",
   "metadata": {},
   "source": [
    "## Word Embeddings\n",
    "\n",
    "We use word embeddings to convert each word to a $d$-length vector. Because the models we are using require a single vector input, we need a way to then convert the multiple word embeddings for a single tweet into one vector. Using the suggestion <a href=\"https://stats.stackexchange.com/a/239071/115143\">here</a>, we try 2 approaches:\n",
    "\n",
    "1. Take the simple average of the vectors for all words in the tweet (resulting in vector of length $d$).\n",
    "2. Concatenate the coordinate-wise minimum and maximum values in each word vector (resulting in vector of length $2d$)."
   ]
  },
  {
   "cell_type": "code",
   "execution_count": 7,
   "id": "b2d80fba",
   "metadata": {},
   "outputs": [],
   "source": [
    "import numpy as np\n",
    "from gensim.models.keyedvectors import KeyedVectors\n",
    "\n",
    "\n",
    "class WordEmbeddings:\n",
    "    \n",
    "    def __init__(self, X: list, embeddings: KeyedVectors):\n",
    "        self.X = X\n",
    "        self.embeddings = embeddings\n",
    "        \n",
    "        # Unique vocabulary of the embedding scheme:\n",
    "        self.embeddings_vocab = set(embeddings.key_to_index)\n",
    "        \n",
    "        # Unique vocabulary of the inputs:\n",
    "        self.X_vocab = {w for words in [s.split() for s in X] for w in words}\n",
    "        \n",
    "        # Unknown words in the input:\n",
    "        self.unknown_words = self.X_vocab - self.embeddings_vocab\n",
    "\n",
    "        # Common vocabulary between the input and the embeddings scheme:\n",
    "        self.common_vocab = self.embeddings_vocab & self.X_vocab\n",
    "        \n",
    "        # Lookup table from words to their embeddings:\n",
    "        self.embeddings_table = pd.DataFrame(embeddings[self.common_vocab], index=self.common_vocab).sort_index()\n",
    "        \n",
    "        # Iterate through input tweets removing unknown words, creating average/min/max embeddings:\n",
    "        embedding_mu, embedding_max, embedding_min, clean_tweets = list(), list(), list(), list()\n",
    "        for i, tweet in enumerate(self.X):\n",
    "            \n",
    "            # Remove unknown words:\n",
    "            words = tweet.split()\n",
    "            known_words = [w for w in words if w in self.common_vocab]\n",
    "            clean_tweets.append(\" \".join(known_words))\n",
    "            \n",
    "            # Calculate mean of all word embeddings in tweet:\n",
    "            mean_array = self.embeddings_table.loc[known_words].mean().values\n",
    "            embedding_mu.append(mean_array)\n",
    "            \n",
    "            # Calculate min/max of all word embeddings in tweet:\n",
    "            max_array = self.embeddings_table.loc[known_words].max().values\n",
    "            embedding_max.append(max_array)\n",
    "            min_array = self.embeddings_table.loc[known_words].min().values\n",
    "            embedding_min.append(min_array)\n",
    "            \n",
    "        # Arrays of final X datasets in word embedding formats:\n",
    "        self.embedding_mu = np.array(embedding_mu)\n",
    "        self.embedding_min = np.array(embedding_min)\n",
    "        self.embedding_max = np.array(embedding_max)\n",
    "        \n",
    "    @property\n",
    "    def embedding_chars(self):\n",
    "        \"\"\"Unique characters in the word embeddings.\"\"\"\n",
    "        return \"\".join(sorted(set([c for w in self.embeddings.index_to_key for c in w])))\n"
   ]
  },
  {
   "cell_type": "markdown",
   "id": "a99b08b8",
   "metadata": {},
   "source": [
    "### Word2Vec\n",
    "\n",
    "Using a pretrained Twitter Word2Vec model with ~1.2m word vocabulary:"
   ]
  },
  {
   "cell_type": "code",
   "execution_count": 8,
   "id": "ac983dcf",
   "metadata": {
    "scrolled": false
   },
   "outputs": [
    {
     "name": "stdout",
     "output_type": "stream",
     "text": [
      "Pre-trained vectors based on 2B tweets, 27B tokens, 1.2M vocab, uncased (https://nlp.stanford.edu/projects/glove/).\n"
     ]
    }
   ],
   "source": [
    "from gensim import downloader\n",
    "\n",
    "\n",
    "# Load the pretrained word embeddings:\n",
    "glove_twitter = downloader.load(\"glove-twitter-200\")\n",
    "info = downloader.info()\n",
    "print(info[\"models\"][\"glove-twitter-200\"][\"description\"])"
   ]
  },
  {
   "cell_type": "code",
   "execution_count": 9,
   "id": "2a7c11a9",
   "metadata": {},
   "outputs": [],
   "source": [
    "# Use the WordEmbeddings class to apply the embeddings to the training & validation data:\n",
    "we_gt = WordEmbeddings(train_pp_stopw, glove_twitter)\n",
    "we_gt_val = WordEmbeddings(val_pp_stopw, glove_twitter)"
   ]
  },
  {
   "cell_type": "code",
   "execution_count": 17,
   "id": "4f84e21b",
   "metadata": {},
   "outputs": [
    {
     "data": {
      "text/plain": [
       "0.9929392446633826"
      ]
     },
     "execution_count": 17,
     "metadata": {},
     "output_type": "execute_result"
    }
   ],
   "source": [
    "from sklearn.neural_network import MLPClassifier\n",
    "\n",
    "nn_minmax = MLPClassifier(hidden_layer_sizes=100, activation=\"relu\", max_iter=400)\n",
    "X_embed_minmax = pd.DataFrame(np.concatenate([we_gt.embedding_min, we_gt.embedding_max], axis=1))\n",
    "nn_minmax.fit(X_embed_minmax, train_labels)\n",
    "nn_minmax.score(X_embed_minmax, train_labels)"
   ]
  },
  {
   "cell_type": "code",
   "execution_count": 18,
   "id": "42364e2c",
   "metadata": {},
   "outputs": [
    {
     "data": {
      "text/plain": [
       "0.7583716349310571"
      ]
     },
     "execution_count": 18,
     "metadata": {},
     "output_type": "execute_result"
    }
   ],
   "source": [
    "X_val_embed_minmax = pd.DataFrame(np.concatenate([we_gt_val.embedding_min, we_gt_val.embedding_max], axis=1))\n",
    "nn_minmax.score(X_val_embed_minmax, val_labels)"
   ]
  },
  {
   "cell_type": "code",
   "execution_count": 20,
   "id": "d59df0e2",
   "metadata": {},
   "outputs": [
    {
     "data": {
      "text/plain": [
       "0.9950738916256158"
      ]
     },
     "execution_count": 20,
     "metadata": {},
     "output_type": "execute_result"
    }
   ],
   "source": [
    "nn_mu = MLPClassifier(hidden_layer_sizes=100, activation=\"relu\", max_iter=400)\n",
    "X_embed_mu = pd.DataFrame(we_gt.embedding_mu)\n",
    "nn_mu.fit(X_embed_mu, train_labels)\n",
    "nn_mu.score(X_embed_mu, train_labels)"
   ]
  },
  {
   "cell_type": "code",
   "execution_count": 21,
   "id": "fe7f0ea2",
   "metadata": {},
   "outputs": [
    {
     "data": {
      "text/plain": [
       "0.757715036112935"
      ]
     },
     "execution_count": 21,
     "metadata": {},
     "output_type": "execute_result"
    }
   ],
   "source": [
    "X_val_embed_mu = pd.DataFrame(we_gt_val.embedding_mu)\n",
    "nn_mu.score(X_val_embed_mu, val_labels)"
   ]
  },
  {
   "cell_type": "markdown",
   "id": "d3eb42d7",
   "metadata": {},
   "source": [
    "Network is overfitting, so try decreasing iterations and increasing alpha parameter:"
   ]
  },
  {
   "cell_type": "code",
   "execution_count": 44,
   "id": "d86675ea",
   "metadata": {},
   "outputs": [
    {
     "name": "stderr",
     "output_type": "stream",
     "text": [
      "/Users/tp/virtualenvs/mids-w207-group-project/lib/python3.9/site-packages/sklearn/neural_network/_multilayer_perceptron.py:614: ConvergenceWarning: Stochastic Optimizer: Maximum iterations (50) reached and the optimization hasn't converged yet.\n",
      "  warnings.warn(\n"
     ]
    },
    {
     "data": {
      "text/plain": [
       "0.8325123152709359"
      ]
     },
     "execution_count": 44,
     "metadata": {},
     "output_type": "execute_result"
    }
   ],
   "source": [
    "nn_minmax = MLPClassifier(hidden_layer_sizes=100, activation=\"relu\", max_iter=50, alpha=0.5)\n",
    "nn_minmax.fit(X_embed_minmax, train_labels)\n",
    "nn_minmax.score(X_embed_minmax, train_labels)"
   ]
  },
  {
   "cell_type": "code",
   "execution_count": 45,
   "id": "7b04f7e2",
   "metadata": {},
   "outputs": [
    {
     "data": {
      "text/plain": [
       "0.7839789888378201"
      ]
     },
     "execution_count": 45,
     "metadata": {},
     "output_type": "execute_result"
    }
   ],
   "source": [
    "nn_minmax.score(X_val_embed_minmax, val_labels)"
   ]
  },
  {
   "cell_type": "code",
   "execution_count": 46,
   "id": "93f9f895",
   "metadata": {},
   "outputs": [
    {
     "data": {
      "text/plain": [
       "[<matplotlib.lines.Line2D at 0x7ffd39233b50>]"
      ]
     },
     "execution_count": 46,
     "metadata": {},
     "output_type": "execute_result"
    },
    {
     "data": {
      "image/png": "[encoded data removed]",
      "text/plain": [
       "<Figure size 432x288 with 1 Axes>"
      ]
     },
     "metadata": {
      "needs_background": "light"
     },
     "output_type": "display_data"
    }
   ],
   "source": [
    "import matplotlib.pyplot as plt\n",
    "\n",
    "fig, ax = plt.subplots()\n",
    "ax.plot(nn_minmax.loss_curve_)"
   ]
  },
  {
   "cell_type": "code",
   "execution_count": null,
   "id": "6db7379d",
   "metadata": {},
   "outputs": [],
   "source": []
  }
 ],
 "metadata": {
  "kernelspec": {
   "display_name": "Python 3 (ipykernel)",
   "language": "python",
   "name": "python3"
  },
  "language_info": {
   "codemirror_mode": {
    "name": "ipython",
    "version": 3
   },
   "file_extension": ".py",
   "mimetype": "text/x-python",
   "name": "python",
   "nbconvert_exporter": "python",
   "pygments_lexer": "ipython3",
   "version": "3.9.2"
  }
 },
 "nbformat": 4,
 "nbformat_minor": 5
}
