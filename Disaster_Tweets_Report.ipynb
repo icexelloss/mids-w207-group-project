{
 "cells": [
  {
   "cell_type": "markdown",
   "metadata": {},
   "source": [
    "## Natural Language Processing with Disaster Tweets\n",
    "##### Authors: Ruth Ashford, Toby Petty and Li Jin\n",
    "This report is based on a Kaggle competition: https://www.kaggle.com/c/nlp-getting-started/data\n",
    "\n",
    "The aim is to classify tweets as being about a disaster or not. We are given a labelled training data set a long with a unlabelled test data set. \n",
    "\n",
    "In the report, we perform initial EDA on the data, cleaning and processing of the tweets text and evaluate the performance Naive Bayes, Neural Network and Logistic Regression models."
   ]
  },
  {
   "cell_type": "code",
   "execution_count": 1,
   "metadata": {},
   "outputs": [
    {
     "name": "stdout",
     "output_type": "stream",
     "text": [
      "Train: (7613, 5)\n",
      "Test:  (3263, 4)\n"
     ]
    },
    {
     "data": {
      "text/html": [
       "<div>\n",
       "<style scoped>\n",
       "    .dataframe tbody tr th:only-of-type {\n",
       "        vertical-align: middle;\n",
       "    }\n",
       "\n",
       "    .dataframe tbody tr th {\n",
       "        vertical-align: top;\n",
       "    }\n",
       "\n",
       "    .dataframe thead th {\n",
       "        text-align: right;\n",
       "    }\n",
       "</style>\n",
       "<table border=\"1\" class=\"dataframe\">\n",
       "  <thead>\n",
       "    <tr style=\"text-align: right;\">\n",
       "      <th></th>\n",
       "      <th>id</th>\n",
       "      <th>keyword</th>\n",
       "      <th>location</th>\n",
       "      <th>text</th>\n",
       "      <th>target</th>\n",
       "    </tr>\n",
       "  </thead>\n",
       "  <tbody>\n",
       "    <tr>\n",
       "      <th>0</th>\n",
       "      <td>1</td>\n",
       "      <td>NaN</td>\n",
       "      <td>NaN</td>\n",
       "      <td>Our Deeds are the Reason of this #earthquake M...</td>\n",
       "      <td>1</td>\n",
       "    </tr>\n",
       "    <tr>\n",
       "      <th>1</th>\n",
       "      <td>4</td>\n",
       "      <td>NaN</td>\n",
       "      <td>NaN</td>\n",
       "      <td>Forest fire near La Ronge Sask. Canada</td>\n",
       "      <td>1</td>\n",
       "    </tr>\n",
       "    <tr>\n",
       "      <th>2</th>\n",
       "      <td>5</td>\n",
       "      <td>NaN</td>\n",
       "      <td>NaN</td>\n",
       "      <td>All residents asked to 'shelter in place' are ...</td>\n",
       "      <td>1</td>\n",
       "    </tr>\n",
       "    <tr>\n",
       "      <th>3</th>\n",
       "      <td>6</td>\n",
       "      <td>NaN</td>\n",
       "      <td>NaN</td>\n",
       "      <td>13,000 people receive #wildfires evacuation or...</td>\n",
       "      <td>1</td>\n",
       "    </tr>\n",
       "    <tr>\n",
       "      <th>4</th>\n",
       "      <td>7</td>\n",
       "      <td>NaN</td>\n",
       "      <td>NaN</td>\n",
       "      <td>Just got sent this photo from Ruby #Alaska as ...</td>\n",
       "      <td>1</td>\n",
       "    </tr>\n",
       "  </tbody>\n",
       "</table>\n",
       "</div>"
      ],
      "text/plain": [
       "   id keyword location                                               text  \\\n",
       "0   1     NaN      NaN  Our Deeds are the Reason of this #earthquake M...   \n",
       "1   4     NaN      NaN             Forest fire near La Ronge Sask. Canada   \n",
       "2   5     NaN      NaN  All residents asked to 'shelter in place' are ...   \n",
       "3   6     NaN      NaN  13,000 people receive #wildfires evacuation or...   \n",
       "4   7     NaN      NaN  Just got sent this photo from Ruby #Alaska as ...   \n",
       "\n",
       "   target  \n",
       "0       1  \n",
       "1       1  \n",
       "2       1  \n",
       "3       1  \n",
       "4       1  "
      ]
     },
     "execution_count": 1,
     "metadata": {},
     "output_type": "execute_result"
    }
   ],
   "source": [
    "import numpy as np\n",
    "import os\n",
    "import pandas as pd\n",
    "\n",
    "\n",
    "data_fp = os.path.join(os.getcwd(), \"data\")\n",
    "train_fp = os.path.join(data_fp, \"train.csv\")\n",
    "train_full = pd.read_csv(train_fp, encoding=\"utf-8\")\n",
    "test_fp = os.path.join(data_fp, \"test.csv\")\n",
    "test = pd.read_csv(test_fp, encoding=\"utf-8\")\n",
    "\n",
    "print(f\"Train: {train_full.shape}\")\n",
    "print(f\"Test:  {test.shape}\")\n",
    "\n",
    "train_full.head()"
   ]
  },
  {
   "cell_type": "markdown",
   "metadata": {},
   "source": [
    "Kaggle supplies the test set (without target labels), so we will submit our final predictions there to get the ultimate measure of model performance. We separate 20% of the training data as a validation set."
   ]
  },
  {
   "cell_type": "markdown",
   "metadata": {},
   "source": [
    "## Exploratory data analysis\n"
   ]
  },
  {
   "cell_type": "markdown",
   "metadata": {},
   "source": [
    "Firstly we will check the number of samples that are labelled as disaster (1) and non-disaster (0)"
   ]
  },
  {
   "cell_type": "code",
   "execution_count": 3,
   "metadata": {},
   "outputs": [
    {
     "data": {
      "text/html": [
       "<div>\n",
       "<style scoped>\n",
       "    .dataframe tbody tr th:only-of-type {\n",
       "        vertical-align: middle;\n",
       "    }\n",
       "\n",
       "    .dataframe tbody tr th {\n",
       "        vertical-align: top;\n",
       "    }\n",
       "\n",
       "    .dataframe thead th {\n",
       "        text-align: right;\n",
       "    }\n",
       "</style>\n",
       "<table border=\"1\" class=\"dataframe\">\n",
       "  <thead>\n",
       "    <tr style=\"text-align: right;\">\n",
       "      <th></th>\n",
       "      <th>Total</th>\n",
       "      <th>Percentage</th>\n",
       "    </tr>\n",
       "    <tr>\n",
       "      <th>target</th>\n",
       "      <th></th>\n",
       "      <th></th>\n",
       "    </tr>\n",
       "  </thead>\n",
       "  <tbody>\n",
       "    <tr>\n",
       "      <th>0</th>\n",
       "      <td>3473</td>\n",
       "      <td>57.0</td>\n",
       "    </tr>\n",
       "    <tr>\n",
       "      <th>1</th>\n",
       "      <td>2617</td>\n",
       "      <td>43.0</td>\n",
       "    </tr>\n",
       "  </tbody>\n",
       "</table>\n",
       "</div>"
      ],
      "text/plain": [
       "        Total  Percentage\n",
       "target                   \n",
       "0        3473        57.0\n",
       "1        2617        43.0"
      ]
     },
     "execution_count": 3,
     "metadata": {},
     "output_type": "execute_result"
    }
   ],
   "source": [
    "train_label_summary = train.groupby('target').agg(Total = ('id','count'))\n",
    "train_label_summary['Percentage'] = round(train_label_summary['Total'] / train.shape[0] * 100, 1)\n",
    "train_label_summary"
   ]
  },
  {
   "cell_type": "markdown",
   "metadata": {},
   "source": [
    "This shows us that we have a fairly even split of disaster and non-disaster labelled samples. This is useful when training our model but tell us that this data set is not likely to be representative of the general population of tweets, we know in general there are far less than 43% of tweets that are about disasters."
   ]
  },
  {
   "cell_type": "markdown",
   "metadata": {},
   "source": [
    "### Keywords\n",
    "Next we want to take a look at the keywords and how they relate to the target. The majority of tweets in our training data have a keyword associated with them, there is just 0.2% of samples that don't."
   ]
  },
  {
   "cell_type": "code",
   "execution_count": 7,
   "metadata": {},
   "outputs": [
    {
     "name": "stdout",
     "output_type": "stream",
     "text": [
      " Percentage of tweets without a keyword: 0.2%\n"
     ]
    }
   ],
   "source": [
    "keyword_label_summary = train.groupby('keyword').agg(percentage_disaster_occurance = ('target', 'mean')).reset_index()\n",
    "\n",
    "keyword_disaster_count = train[train['target'] == 1].groupby('keyword').agg(disaster_count = ('target', 'count')).reset_index()\n",
    "keyword_not_disaster_count = train[train['target'] == 0].groupby('keyword').agg(not_disaster_count = ('target', 'count')).reset_index()\n",
    "\n",
    "keyword_label_summary = keyword_label_summary.merge(keyword_disaster_count, how='left')\n",
    "keyword_label_summary = keyword_label_summary.merge(keyword_not_disaster_count, how='left')\n",
    "\n",
    "print(f' Percentage of tweets without a keyword: {round(1 - train.keyword.isna().sum() / train.shape[0] * 100 , 2)}%')"
   ]
  },
  {
   "cell_type": "markdown",
   "metadata": {},
   "source": [
    "Below are the words that come up most often in disaster tweets."
   ]
  },
  {
   "cell_type": "code",
   "execution_count": 5,
   "metadata": {},
   "outputs": [
    {
     "data": {
      "text/html": [
       "<div>\n",
       "<style scoped>\n",
       "    .dataframe tbody tr th:only-of-type {\n",
       "        vertical-align: middle;\n",
       "    }\n",
       "\n",
       "    .dataframe tbody tr th {\n",
       "        vertical-align: top;\n",
       "    }\n",
       "\n",
       "    .dataframe thead th {\n",
       "        text-align: right;\n",
       "    }\n",
       "</style>\n",
       "<table border=\"1\" class=\"dataframe\">\n",
       "  <thead>\n",
       "    <tr style=\"text-align: right;\">\n",
       "      <th></th>\n",
       "      <th>keyword</th>\n",
       "      <th>percentage_disaster_occurance</th>\n",
       "      <th>disaster_count</th>\n",
       "      <th>not_disaster_count</th>\n",
       "    </tr>\n",
       "  </thead>\n",
       "  <tbody>\n",
       "    <tr>\n",
       "      <th>62</th>\n",
       "      <td>debris</td>\n",
       "      <td>1.000000</td>\n",
       "      <td>30.0</td>\n",
       "      <td>NaN</td>\n",
       "    </tr>\n",
       "    <tr>\n",
       "      <th>70</th>\n",
       "      <td>derailment</td>\n",
       "      <td>1.000000</td>\n",
       "      <td>33.0</td>\n",
       "      <td>NaN</td>\n",
       "    </tr>\n",
       "    <tr>\n",
       "      <th>219</th>\n",
       "      <td>wreckage</td>\n",
       "      <td>1.000000</td>\n",
       "      <td>25.0</td>\n",
       "      <td>NaN</td>\n",
       "    </tr>\n",
       "    <tr>\n",
       "      <th>153</th>\n",
       "      <td>outbreak</td>\n",
       "      <td>0.965517</td>\n",
       "      <td>28.0</td>\n",
       "      <td>1.0</td>\n",
       "    </tr>\n",
       "    <tr>\n",
       "      <th>152</th>\n",
       "      <td>oil%20spill</td>\n",
       "      <td>0.964286</td>\n",
       "      <td>27.0</td>\n",
       "      <td>1.0</td>\n",
       "    </tr>\n",
       "    <tr>\n",
       "      <th>205</th>\n",
       "      <td>typhoon</td>\n",
       "      <td>0.962963</td>\n",
       "      <td>26.0</td>\n",
       "      <td>1.0</td>\n",
       "    </tr>\n",
       "    <tr>\n",
       "      <th>187</th>\n",
       "      <td>suicide%20bombing</td>\n",
       "      <td>0.962963</td>\n",
       "      <td>26.0</td>\n",
       "      <td>1.0</td>\n",
       "    </tr>\n",
       "    <tr>\n",
       "      <th>186</th>\n",
       "      <td>suicide%20bomber</td>\n",
       "      <td>0.956522</td>\n",
       "      <td>22.0</td>\n",
       "      <td>1.0</td>\n",
       "    </tr>\n",
       "    <tr>\n",
       "      <th>32</th>\n",
       "      <td>bombing</td>\n",
       "      <td>0.950000</td>\n",
       "      <td>19.0</td>\n",
       "      <td>1.0</td>\n",
       "    </tr>\n",
       "    <tr>\n",
       "      <th>147</th>\n",
       "      <td>nuclear%20disaster</td>\n",
       "      <td>0.928571</td>\n",
       "      <td>26.0</td>\n",
       "      <td>2.0</td>\n",
       "    </tr>\n",
       "    <tr>\n",
       "      <th>162</th>\n",
       "      <td>razed</td>\n",
       "      <td>0.923077</td>\n",
       "      <td>24.0</td>\n",
       "      <td>2.0</td>\n",
       "    </tr>\n",
       "    <tr>\n",
       "      <th>166</th>\n",
       "      <td>rescuers</td>\n",
       "      <td>0.923077</td>\n",
       "      <td>24.0</td>\n",
       "      <td>2.0</td>\n",
       "    </tr>\n",
       "    <tr>\n",
       "      <th>185</th>\n",
       "      <td>suicide%20bomb</td>\n",
       "      <td>0.896552</td>\n",
       "      <td>26.0</td>\n",
       "      <td>3.0</td>\n",
       "    </tr>\n",
       "    <tr>\n",
       "      <th>139</th>\n",
       "      <td>mass%20murder</td>\n",
       "      <td>0.892857</td>\n",
       "      <td>25.0</td>\n",
       "      <td>3.0</td>\n",
       "    </tr>\n",
       "    <tr>\n",
       "      <th>213</th>\n",
       "      <td>wild%20fires</td>\n",
       "      <td>0.888889</td>\n",
       "      <td>24.0</td>\n",
       "      <td>3.0</td>\n",
       "    </tr>\n",
       "    <tr>\n",
       "      <th>96</th>\n",
       "      <td>evacuated</td>\n",
       "      <td>0.884615</td>\n",
       "      <td>23.0</td>\n",
       "      <td>3.0</td>\n",
       "    </tr>\n",
       "    <tr>\n",
       "      <th>115</th>\n",
       "      <td>forest%20fire</td>\n",
       "      <td>0.866667</td>\n",
       "      <td>13.0</td>\n",
       "      <td>2.0</td>\n",
       "    </tr>\n",
       "    <tr>\n",
       "      <th>214</th>\n",
       "      <td>wildfire</td>\n",
       "      <td>0.862069</td>\n",
       "      <td>25.0</td>\n",
       "      <td>4.0</td>\n",
       "    </tr>\n",
       "    <tr>\n",
       "      <th>193</th>\n",
       "      <td>terrorist</td>\n",
       "      <td>0.857143</td>\n",
       "      <td>18.0</td>\n",
       "      <td>3.0</td>\n",
       "    </tr>\n",
       "    <tr>\n",
       "      <th>35</th>\n",
       "      <td>buildings%20on%20fire</td>\n",
       "      <td>0.851852</td>\n",
       "      <td>23.0</td>\n",
       "      <td>4.0</td>\n",
       "    </tr>\n",
       "  </tbody>\n",
       "</table>\n",
       "</div>"
      ],
      "text/plain": [
       "                   keyword  percentage_disaster_occurance  disaster_count  \\\n",
       "62                  debris                       1.000000            30.0   \n",
       "70              derailment                       1.000000            33.0   \n",
       "219               wreckage                       1.000000            25.0   \n",
       "153               outbreak                       0.965517            28.0   \n",
       "152            oil%20spill                       0.964286            27.0   \n",
       "205                typhoon                       0.962963            26.0   \n",
       "187      suicide%20bombing                       0.962963            26.0   \n",
       "186       suicide%20bomber                       0.956522            22.0   \n",
       "32                 bombing                       0.950000            19.0   \n",
       "147     nuclear%20disaster                       0.928571            26.0   \n",
       "162                  razed                       0.923077            24.0   \n",
       "166               rescuers                       0.923077            24.0   \n",
       "185         suicide%20bomb                       0.896552            26.0   \n",
       "139          mass%20murder                       0.892857            25.0   \n",
       "213           wild%20fires                       0.888889            24.0   \n",
       "96               evacuated                       0.884615            23.0   \n",
       "115          forest%20fire                       0.866667            13.0   \n",
       "214               wildfire                       0.862069            25.0   \n",
       "193              terrorist                       0.857143            18.0   \n",
       "35   buildings%20on%20fire                       0.851852            23.0   \n",
       "\n",
       "     not_disaster_count  \n",
       "62                  NaN  \n",
       "70                  NaN  \n",
       "219                 NaN  \n",
       "153                 1.0  \n",
       "152                 1.0  \n",
       "205                 1.0  \n",
       "187                 1.0  \n",
       "186                 1.0  \n",
       "32                  1.0  \n",
       "147                 2.0  \n",
       "162                 2.0  \n",
       "166                 2.0  \n",
       "185                 3.0  \n",
       "139                 3.0  \n",
       "213                 3.0  \n",
       "96                  3.0  \n",
       "115                 2.0  \n",
       "214                 4.0  \n",
       "193                 3.0  \n",
       "35                  4.0  "
      ]
     },
     "execution_count": 5,
     "metadata": {},
     "output_type": "execute_result"
    }
   ],
   "source": [
    "keyword_label_summary.sort_values('percentage_disaster_occurance', \n",
    "                                  ascending=False).head(20)"
   ]
  },
  {
   "cell_type": "markdown",
   "metadata": {},
   "source": [
    "Below are the kewords that come up most often in non-disaster tweets. I can see that 'body%20bags' and body%20bag' is a duplicate and needs cleaning up. There are a lot of words here that I would associate with disasters, such as 'ruin', 'explode' and 'wrecked' but these are also words that could be used in a sentence when not describing a disaster."
   ]
  },
  {
   "cell_type": "code",
   "execution_count": 6,
   "metadata": {},
   "outputs": [
    {
     "data": {
      "text/html": [
       "<div>\n",
       "<style scoped>\n",
       "    .dataframe tbody tr th:only-of-type {\n",
       "        vertical-align: middle;\n",
       "    }\n",
       "\n",
       "    .dataframe tbody tr th {\n",
       "        vertical-align: top;\n",
       "    }\n",
       "\n",
       "    .dataframe thead th {\n",
       "        text-align: right;\n",
       "    }\n",
       "</style>\n",
       "<table border=\"1\" class=\"dataframe\">\n",
       "  <thead>\n",
       "    <tr style=\"text-align: right;\">\n",
       "      <th></th>\n",
       "      <th>keyword</th>\n",
       "      <th>percentage_disaster_occurance</th>\n",
       "      <th>disaster_count</th>\n",
       "      <th>not_disaster_count</th>\n",
       "    </tr>\n",
       "  </thead>\n",
       "  <tbody>\n",
       "    <tr>\n",
       "      <th>21</th>\n",
       "      <td>blew%20up</td>\n",
       "      <td>0.000000</td>\n",
       "      <td>NaN</td>\n",
       "      <td>25.0</td>\n",
       "    </tr>\n",
       "    <tr>\n",
       "      <th>2</th>\n",
       "      <td>aftershock</td>\n",
       "      <td>0.000000</td>\n",
       "      <td>NaN</td>\n",
       "      <td>25.0</td>\n",
       "    </tr>\n",
       "    <tr>\n",
       "      <th>29</th>\n",
       "      <td>body%20bags</td>\n",
       "      <td>0.026316</td>\n",
       "      <td>1.0</td>\n",
       "      <td>37.0</td>\n",
       "    </tr>\n",
       "    <tr>\n",
       "      <th>19</th>\n",
       "      <td>blazing</td>\n",
       "      <td>0.033333</td>\n",
       "      <td>1.0</td>\n",
       "      <td>29.0</td>\n",
       "    </tr>\n",
       "    <tr>\n",
       "      <th>25</th>\n",
       "      <td>bloody</td>\n",
       "      <td>0.034483</td>\n",
       "      <td>1.0</td>\n",
       "      <td>28.0</td>\n",
       "    </tr>\n",
       "    <tr>\n",
       "      <th>170</th>\n",
       "      <td>ruin</td>\n",
       "      <td>0.035714</td>\n",
       "      <td>1.0</td>\n",
       "      <td>27.0</td>\n",
       "    </tr>\n",
       "    <tr>\n",
       "      <th>27</th>\n",
       "      <td>body%20bag</td>\n",
       "      <td>0.041667</td>\n",
       "      <td>1.0</td>\n",
       "      <td>23.0</td>\n",
       "    </tr>\n",
       "    <tr>\n",
       "      <th>201</th>\n",
       "      <td>traumatised</td>\n",
       "      <td>0.043478</td>\n",
       "      <td>1.0</td>\n",
       "      <td>22.0</td>\n",
       "    </tr>\n",
       "    <tr>\n",
       "      <th>48</th>\n",
       "      <td>collide</td>\n",
       "      <td>0.043478</td>\n",
       "      <td>1.0</td>\n",
       "      <td>22.0</td>\n",
       "    </tr>\n",
       "    <tr>\n",
       "      <th>88</th>\n",
       "      <td>electrocute</td>\n",
       "      <td>0.043478</td>\n",
       "      <td>1.0</td>\n",
       "      <td>22.0</td>\n",
       "    </tr>\n",
       "    <tr>\n",
       "      <th>172</th>\n",
       "      <td>screamed</td>\n",
       "      <td>0.066667</td>\n",
       "      <td>2.0</td>\n",
       "      <td>28.0</td>\n",
       "    </tr>\n",
       "    <tr>\n",
       "      <th>156</th>\n",
       "      <td>panicking</td>\n",
       "      <td>0.068966</td>\n",
       "      <td>2.0</td>\n",
       "      <td>27.0</td>\n",
       "    </tr>\n",
       "    <tr>\n",
       "      <th>155</th>\n",
       "      <td>panic</td>\n",
       "      <td>0.068966</td>\n",
       "      <td>2.0</td>\n",
       "      <td>27.0</td>\n",
       "    </tr>\n",
       "    <tr>\n",
       "      <th>119</th>\n",
       "      <td>harm</td>\n",
       "      <td>0.071429</td>\n",
       "      <td>2.0</td>\n",
       "      <td>26.0</td>\n",
       "    </tr>\n",
       "    <tr>\n",
       "      <th>22</th>\n",
       "      <td>blight</td>\n",
       "      <td>0.071429</td>\n",
       "      <td>2.0</td>\n",
       "      <td>26.0</td>\n",
       "    </tr>\n",
       "    <tr>\n",
       "      <th>54</th>\n",
       "      <td>crushed</td>\n",
       "      <td>0.080000</td>\n",
       "      <td>2.0</td>\n",
       "      <td>23.0</td>\n",
       "    </tr>\n",
       "    <tr>\n",
       "      <th>143</th>\n",
       "      <td>meltdown</td>\n",
       "      <td>0.080000</td>\n",
       "      <td>2.0</td>\n",
       "      <td>23.0</td>\n",
       "    </tr>\n",
       "    <tr>\n",
       "      <th>173</th>\n",
       "      <td>screaming</td>\n",
       "      <td>0.080000</td>\n",
       "      <td>2.0</td>\n",
       "      <td>23.0</td>\n",
       "    </tr>\n",
       "    <tr>\n",
       "      <th>150</th>\n",
       "      <td>obliterated</td>\n",
       "      <td>0.083333</td>\n",
       "      <td>2.0</td>\n",
       "      <td>22.0</td>\n",
       "    </tr>\n",
       "    <tr>\n",
       "      <th>83</th>\n",
       "      <td>drown</td>\n",
       "      <td>0.086957</td>\n",
       "      <td>2.0</td>\n",
       "      <td>21.0</td>\n",
       "    </tr>\n",
       "  </tbody>\n",
       "</table>\n",
       "</div>"
      ],
      "text/plain": [
       "         keyword  percentage_disaster_occurance  disaster_count  \\\n",
       "21     blew%20up                       0.000000             NaN   \n",
       "2     aftershock                       0.000000             NaN   \n",
       "29   body%20bags                       0.026316             1.0   \n",
       "19       blazing                       0.033333             1.0   \n",
       "25        bloody                       0.034483             1.0   \n",
       "170         ruin                       0.035714             1.0   \n",
       "27    body%20bag                       0.041667             1.0   \n",
       "201  traumatised                       0.043478             1.0   \n",
       "48       collide                       0.043478             1.0   \n",
       "88   electrocute                       0.043478             1.0   \n",
       "172     screamed                       0.066667             2.0   \n",
       "156    panicking                       0.068966             2.0   \n",
       "155        panic                       0.068966             2.0   \n",
       "119         harm                       0.071429             2.0   \n",
       "22        blight                       0.071429             2.0   \n",
       "54       crushed                       0.080000             2.0   \n",
       "143     meltdown                       0.080000             2.0   \n",
       "173    screaming                       0.080000             2.0   \n",
       "150  obliterated                       0.083333             2.0   \n",
       "83         drown                       0.086957             2.0   \n",
       "\n",
       "     not_disaster_count  \n",
       "21                 25.0  \n",
       "2                  25.0  \n",
       "29                 37.0  \n",
       "19                 29.0  \n",
       "25                 28.0  \n",
       "170                27.0  \n",
       "27                 23.0  \n",
       "201                22.0  \n",
       "48                 22.0  \n",
       "88                 22.0  \n",
       "172                28.0  \n",
       "156                27.0  \n",
       "155                27.0  \n",
       "119                26.0  \n",
       "22                 26.0  \n",
       "54                 23.0  \n",
       "143                23.0  \n",
       "173                23.0  \n",
       "150                22.0  \n",
       "83                 21.0  "
      ]
     },
     "execution_count": 6,
     "metadata": {},
     "output_type": "execute_result"
    }
   ],
   "source": [
    "keyword_label_summary.sort_values('percentage_disaster_occurance', \n",
    "                                  ascending=True).head(20)"
   ]
  },
  {
   "cell_type": "markdown",
   "metadata": {},
   "source": [
    "### Length of tweets\n",
    "We want to understand if the length of the tweet differs for disaster tweets versus non-disaster tweets"
   ]
  },
  {
   "cell_type": "code",
   "execution_count": 10,
   "metadata": {},
   "outputs": [
    {
     "data": {
      "image/png": "[encoded data removed]",
      "text/plain": [
       "<Figure size 432x288 with 2 Axes>"
      ]
     },
     "metadata": {
      "needs_background": "light"
     },
     "output_type": "display_data"
    },
    {
     "name": "stdout",
     "output_type": "stream",
     "text": [
      "Average length of disaster tweets is 108 with standard deviation 29\n",
      "Average length of non-disaster tweets is 96 with standard deviation 36\n"
     ]
    }
   ],
   "source": [
    "import matplotlib.pyplot as plt\n",
    "\n",
    "fig, axs = plt.subplots(2)\n",
    "fig. tight_layout(pad=3.0)\n",
    "\n",
    "disaster_length = train[train['target'] == 1]['text'].apply(lambda x: len(x))\n",
    "non_disaster_length = train[train['target'] == 0]['text'].apply(lambda x: len(x))\n",
    "\n",
    "axs[0].hist(x = disaster_length, color='red', bins=20, range = (0,160))\n",
    "axs[0].set_title('Length distribution of disaster tweets')\n",
    "axs[1].hist(x = non_disaster_length, bins=20, range = (0,160))\n",
    "axs[1].set_title('Length distribution of non-disaster tweets')\n",
    "axs[1].set_xlabel('Tweet length')\n",
    "\n",
    "plt.show()\n",
    "\n",
    "print(f'Average length of disaster tweets is {round(disaster_length.mean())} ' \\\n",
    " f'with standard deviation {round(disaster_length.std())}')\n",
    "\n",
    "print(f'Average length of non-disaster tweets is {round(non_disaster_length.mean())} ' \\\n",
    " f'with standard deviation {round(non_disaster_length.std())}')\n"
   ]
  },
  {
   "cell_type": "markdown",
   "metadata": {},
   "source": [
    "We can see that the do seem to be slightly longer, but not by a huge amount."
   ]
  },
  {
   "cell_type": "markdown",
   "metadata": {},
   "source": [
    "### Number of words\n",
    "Similarily, we want to understand if there are any key differences in the number of words in the tweets."
   ]
  },
  {
   "cell_type": "code",
   "execution_count": 12,
   "metadata": {},
   "outputs": [
    {
     "data": {
      "image/png": "[encoded data removed]",
      "text/plain": [
       "<Figure size 432x288 with 2 Axes>"
      ]
     },
     "metadata": {
      "needs_background": "light"
     },
     "output_type": "display_data"
    },
    {
     "name": "stdout",
     "output_type": "stream",
     "text": [
      "Average length of disaster tweets is 19 with standard deviation 6\n",
      "Average length of non-disaster tweets is 19 with standard deviation 7\n"
     ]
    }
   ],
   "source": [
    "from nltk.tokenize import word_tokenize\n",
    "\n",
    "fig, axs = plt.subplots(2)\n",
    "fig. tight_layout(pad=3.0)\n",
    "\n",
    "disaster_wc = train[train['target'] == 1]['text'].apply(lambda x: len(word_tokenize(x)))\n",
    "non_disaster_wc = train[train['target'] == 0]['text'].apply(lambda x: len(word_tokenize(x)))\n",
    "\n",
    "axs[0].hist(x = disaster_wc, color='red', bins=20, range = (0,40))\n",
    "axs[0].set_title('Word count distribution of disaster tweets')\n",
    "axs[1].hist(x = non_disaster_wc, bins=20, range = (0,40))\n",
    "axs[1].set_title('Word count distribution of non-disaster tweets')\n",
    "axs[1].set_xlabel('Tweet word count')\n",
    "\n",
    "plt.show()\n",
    "\n",
    "print(f'Average length of disaster tweets is {round(disaster_wc.mean())} ' \\\n",
    " f'with standard deviation {round(disaster_wc.std())}')\n",
    "\n",
    "print(f'Average length of non-disaster tweets is {round(non_disaster_wc.mean())} ' \\\n",
    " f'with standard deviation {round(non_disaster_wc.std())}')"
   ]
  },
  {
   "cell_type": "markdown",
   "metadata": {},
   "source": [
    "Again, no real difference here between disaster and non-disaster tweets."
   ]
  },
  {
   "cell_type": "markdown",
   "metadata": {},
   "source": [
    "### Location\n",
    "\n",
    "Location data is provided for 65% of the samples. The location data seems to range from being as broad as a country, or as specific as the name of a restaurant."
   ]
  },
  {
   "cell_type": "code",
   "execution_count": 34,
   "metadata": {},
   "outputs": [
    {
     "name": "stdout",
     "output_type": "stream",
     "text": [
      " Percentage of tweets without a location: 66.55%\n"
     ]
    },
    {
     "data": {
      "text/html": [
       "<div>\n",
       "<style scoped>\n",
       "    .dataframe tbody tr th:only-of-type {\n",
       "        vertical-align: middle;\n",
       "    }\n",
       "\n",
       "    .dataframe tbody tr th {\n",
       "        vertical-align: top;\n",
       "    }\n",
       "\n",
       "    .dataframe thead th {\n",
       "        text-align: right;\n",
       "    }\n",
       "</style>\n",
       "<table border=\"1\" class=\"dataframe\">\n",
       "  <thead>\n",
       "    <tr style=\"text-align: right;\">\n",
       "      <th></th>\n",
       "      <th>0</th>\n",
       "    </tr>\n",
       "  </thead>\n",
       "  <tbody>\n",
       "    <tr>\n",
       "      <th>0</th>\n",
       "      <td>NaN</td>\n",
       "    </tr>\n",
       "    <tr>\n",
       "      <th>1</th>\n",
       "      <td>UK</td>\n",
       "    </tr>\n",
       "    <tr>\n",
       "      <th>2</th>\n",
       "      <td>Montgomery County, MD</td>\n",
       "    </tr>\n",
       "    <tr>\n",
       "      <th>3</th>\n",
       "      <td>Los Angeles, CA</td>\n",
       "    </tr>\n",
       "    <tr>\n",
       "      <th>4</th>\n",
       "      <td>Athens,Greece</td>\n",
       "    </tr>\n",
       "    <tr>\n",
       "      <th>...</th>\n",
       "      <td>...</td>\n",
       "    </tr>\n",
       "    <tr>\n",
       "      <th>2751</th>\n",
       "      <td>ÌÏT: 35.223347,-80.827834</td>\n",
       "    </tr>\n",
       "    <tr>\n",
       "      <th>2752</th>\n",
       "      <td>ITALY</td>\n",
       "    </tr>\n",
       "    <tr>\n",
       "      <th>2753</th>\n",
       "      <td>Detroit Tigers Dugout</td>\n",
       "    </tr>\n",
       "    <tr>\n",
       "      <th>2754</th>\n",
       "      <td>Santiago de Cmpostela Galicia</td>\n",
       "    </tr>\n",
       "    <tr>\n",
       "      <th>2755</th>\n",
       "      <td>Rhyme Or Reason?</td>\n",
       "    </tr>\n",
       "  </tbody>\n",
       "</table>\n",
       "<p>2756 rows × 1 columns</p>\n",
       "</div>"
      ],
      "text/plain": [
       "                                  0\n",
       "0                               NaN\n",
       "1                                UK\n",
       "2             Montgomery County, MD\n",
       "3                   Los Angeles, CA\n",
       "4                     Athens,Greece\n",
       "...                             ...\n",
       "2751      ÌÏT: 35.223347,-80.827834\n",
       "2752                          ITALY\n",
       "2753          Detroit Tigers Dugout\n",
       "2754  Santiago de Cmpostela Galicia\n",
       "2755               Rhyme Or Reason?\n",
       "\n",
       "[2756 rows x 1 columns]"
      ]
     },
     "execution_count": 34,
     "metadata": {},
     "output_type": "execute_result"
    }
   ],
   "source": [
    "print(f' Percentage of tweets without a location: ' + \n",
    "      f'{round((1 - train.location.isna().sum() / train.shape[0]) * 100 , 2)}%')\n",
    "\n",
    "pd.DataFrame(train.location.unique())"
   ]
  },
  {
   "cell_type": "markdown",
   "metadata": {},
   "source": [
    "### Baseline model"
   ]
  },
  {
   "cell_type": "markdown",
   "metadata": {},
   "source": [
    "We use CountVectorizer and BernoulliNB to create a baseline model, and get benchmark score against the validation set.\n",
    "\n",
    "Note that the target labels are binary outcomes, so they comrpise a Bernoulli distribution where  𝑝≈0.43 . Therefore accuracy is the chosen metric of performance, since there isn't a huge class imbalance."
   ]
  },
  {
   "cell_type": "markdown",
   "metadata": {},
   "source": [
    "### Training and validation data\n",
    "We will reserve 20% of the training data set and a validation data set to test iterations of the model against."
   ]
  },
  {
   "cell_type": "code",
   "execution_count": 36,
   "metadata": {},
   "outputs": [
    {
     "name": "stdout",
     "output_type": "stream",
     "text": [
      "Train data set contains 6090 samples\n",
      "Validation data set contains 1523 samples\n"
     ]
    }
   ],
   "source": [
    "# Shuffle the index in case there are patterns in the order of the training data:\n",
    "np.random.seed(42)\n",
    "shuffled_ix = list(train_full.index)\n",
    "np.random.shuffle(shuffled_ix)\n",
    "cutoff = int(len(shuffled_ix)*0.8)\n",
    "train = train_full.loc[shuffled_ix[:cutoff]].copy()\n",
    "validation = train_full.loc[shuffled_ix[cutoff:]].copy()\n",
    "\n",
    "print(f'Train data set contains {train.shape[0]} samples')\n",
    "print(f'Validation data set contains {validation.shape[0]} samples')"
   ]
  },
  {
   "cell_type": "code",
   "execution_count": 124,
   "metadata": {},
   "outputs": [],
   "source": [
    "# to work with Ruth's models (can be removed after clean up)\n",
    "train_data = train.text\n",
    "train_labels = train.target\n",
    "dev_data = validation.text\n",
    "dev_labels = validation.target"
   ]
  },
  {
   "cell_type": "code",
   "execution_count": 40,
   "metadata": {},
   "outputs": [],
   "source": [
    "import numpy as np\n",
    "from sklearn.feature_extraction.text import CountVectorizer\n",
    "from sklearn.metrics import plot_confusion_matrix\n",
    "from sklearn.model_selection import cross_validate\n",
    "from sklearn.naive_bayes import BernoulliNB"
   ]
  },
  {
   "cell_type": "code",
   "execution_count": 43,
   "metadata": {},
   "outputs": [
    {
     "name": "stdout",
     "output_type": "stream",
     "text": [
      "Bernoulli distribution, p = 0.430\n",
      "Mean accuracy on 5-fold cross validation = 0.802\n",
      "Validation accuracy = 0.793\n"
     ]
    },
    {
     "data": {
      "image/png": "[encoded data removed]",
      "text/plain": [
       "<Figure size 432x288 with 2 Axes>"
      ]
     },
     "metadata": {
      "needs_background": "light"
     },
     "output_type": "display_data"
    }
   ],
   "source": [
    "vec = CountVectorizer()\n",
    "vec.fit(train[\"text\"])\n",
    "train_vec = vec.transform(train_data)\n",
    "\n",
    "print(f\"Bernoulli distribution, p = {train_labels.mean():.3f}\")\n",
    "\n",
    "model = BernoulliNB()\n",
    "crossval = cross_validate(model, train_vec, train_labels, cv=5, return_estimator=True)\n",
    "mean_score = crossval[\"test_score\"].mean()\n",
    "print(f\"Mean accuracy on 5-fold cross validation = {mean_score:.3f}\")\n",
    "best_estimator = crossval[\"estimator\"][crossval[\"test_score\"].argmax()]\n",
    "dev_vec = vec.transform(dev_data)\n",
    "dev_score = best_estimator.score(dev_vec, dev_labels)\n",
    "print(f\"Validation accuracy = {dev_score:.3f}\")\n",
    "\n",
    "cm = plot_confusion_matrix(best_estimator, dev_vec, dev_labels)"
   ]
  },
  {
   "cell_type": "code",
   "execution_count": 44,
   "metadata": {},
   "outputs": [],
   "source": [
    "# Testing the processor Toby created \n",
    "\n",
    "import string\n",
    "import sys\n",
    "import regex as re\n",
    "\n",
    "FLAGS = re.MULTILINE | re.DOTALL\n",
    "\n",
    "\n",
    "punctuation = string.punctuation.replace(\"#\", \"\")\n",
    "punctuation = punctuation.replace(\"<\", \"\")\n",
    "punctuation = punctuation.replace(\">\", \"\")\n",
    "\n",
    "\n",
    "def _hashtag(text):\n",
    "    \"\"\"Parse hashtags in tweets.\n",
    "    \n",
    "    For hashtags with words in title case, splits into separate words, e.g.\n",
    "        #BigFire -> <hashtag> Big Fire \n",
    "        \n",
    "    For all caps hashtags converts to lowercase, e.g.\n",
    "        #OMG -> <hashtag> omg\n",
    "    \"\"\"\n",
    "    text = text.group()\n",
    "    hashtag_body = text[1:]\n",
    "    if hashtag_body.isupper():\n",
    "        result = f\" <hashtag> {hashtag_body.lower()} <allcaps> \"\n",
    "    else:\n",
    "        result = \" \".join([\" <hashtag> \"] + re.split(r\"(?=[A-Z])\", hashtag_body, flags=FLAGS))\n",
    "    return result\n",
    "\n",
    "\n",
    "def _allcaps(text):\n",
    "    \"\"\"Convert all-caps words to lowercase and add allcaps tag.\"\"\"\n",
    "    text = text.group()\n",
    "    return text.lower() + \" <allcaps> \"\n",
    "\n",
    "\n",
    "def tokenize(text):\n",
    "    def re_sub(pattern, repl):\n",
    "        return re.sub(pattern, repl, text, flags=FLAGS)\n",
    "\n",
    "    # Remove URLS:\n",
    "    text = re_sub(r\"https?:\\/\\/\\S+\\b|www\\.(\\w+\\.)+\\S*\", \" <url> \")\n",
    "    \n",
    "    # Remove usernames:\n",
    "    text = re_sub(r\"@\\w+\", \" <user> \")\n",
    "    \n",
    "    # Tag smiley faces :-) sad faces :-( etc.\n",
    "    eyes, nose = r\"[8:=;]\", r\"['`\\-]?\"\n",
    "    text = re_sub(r\"{}{}[)dD]+|[)dD]+{}{}\".format(eyes, nose, nose, eyes), \" <smile> \")\n",
    "    text = re_sub(r\"{}{}p+\".format(eyes, nose), \" <lolface> \")\n",
    "    text = re_sub(r\"{}{}\\(+|\\)+{}{}\".format(eyes, nose, nose, eyes), \" <sadface> \")\n",
    "    text = re_sub(r\"{}{}[\\/|l*]\".format(eyes, nose), \" <neutralface> \")\n",
    "    text = re_sub(r\"<3\",\" <heart> \")\n",
    "\n",
    "    # Add whitespace around /\n",
    "    text = re_sub(r\"/\",\" / \")\n",
    "    \n",
    "    # Tag numbers:\n",
    "    text = re_sub(r\"[-+]?[.\\d]*[\\d]+[:,.\\d]*\", \" <number> \")\n",
    "    \n",
    "    # Tag hastags and separate hashtag words:\n",
    "    text = re_sub(r\"#\\w+\", _hashtag)\n",
    "    \n",
    "    # Remove and tag repetitions of question marks, exclamations:\n",
    "    text = re_sub(r\"([!?.]){2,}\", r\"\\1 <repeat> \")\n",
    "    \n",
    "    # Tag elongated sequences of the same letter (3+ occurences), e.g. \"AAAAAAA\"\n",
    "    text = re_sub(r\"\\b(\\S*?)(.)\\2{2,}\\b\", r\"\\1\\2 <elong> \")\n",
    "    \n",
    "    # Put whitespace around punctuation, then remove:\n",
    "    text = re_sub(r\"([a-zA-Z<>()])([{}])\".format(punctuation), r\"\\1 \\2\")\n",
    "    text = re_sub(r\"([{}])([a-zA-Z<>()])\".format(punctuation), r\"\\1 \\2\")\n",
    "    text = re.sub(\"[%s]\" % re.escape(punctuation), \"\", text)\n",
    "\n",
    "    # Tag all caps words:\n",
    "    text = re_sub(r\" ([A-Z]){2,} \", _allcaps)\n",
    "    \n",
    "    return \" \".join(text.lower().split())\n"
   ]
  },
  {
   "cell_type": "code",
   "execution_count": 45,
   "metadata": {},
   "outputs": [
    {
     "data": {
      "text/plain": [
       "'<hashtag> <elong> big fire on <hashtag> <elong> mount everest <hashtag> omg <allcaps> <repeat> where are police some punctuation <number> now <number> <user>'"
      ]
     },
     "execution_count": 45,
     "metadata": {},
     "output_type": "execute_result"
    }
   ],
   "source": [
    "# Example with lots of weird features:\n",
    "text = \"#BigFire on #MountEverest #OMG, !! /where are police 'some' punctuation! 3now 44 @police\"\n",
    "tokenize(text)"
   ]
  },
  {
   "cell_type": "code",
   "execution_count": 54,
   "metadata": {},
   "outputs": [],
   "source": [
    "from gensim.models.keyedvectors import KeyedVectors\n",
    "import numpy as np\n",
    "from sklearn.feature_extraction.text import TfidfVectorizer\n",
    "from spellchecker import SpellChecker\n",
    "import yaml\n",
    "\n",
    "\n",
    "class WordEmbeddings:\n",
    "    \"\"\"Class to create word embeddings from input tweets, \n",
    "    including text pre-processing.\"\"\"\n",
    "    \n",
    "    def __init__(self, X: pd.Series, embeddings: KeyedVectors, \n",
    "                 processor = tokenize, spellcheck: bool = True, \n",
    "                 idf_filter: float = 0.05, stop_words: list = None):\n",
    "        \"\"\"\n",
    "        \"\"\"\n",
    "        # Save the raw input as a list:\n",
    "        self.X_raw = X.tolist()\n",
    "        \n",
    "        # Apply the preprocessor function:\n",
    "        X = X.map(processor).tolist()\n",
    "        \n",
    "        # Apply the spelling corrections:\n",
    "        if spellcheck:\n",
    "            corrections = self.correct_spellings([])\n",
    "            corrected = list()\n",
    "            for tweet in X:\n",
    "                corrected.append(\" \".join([corrections.get(w, w) for w in tweet.split()]))\n",
    "            X = corrected\n",
    "        \n",
    "        # Apply IDF to remove common words in corpus:\n",
    "        if idf_filter is not None:\n",
    "            vect = TfidfVectorizer(\n",
    "                input=\"content\", encoding=\"utf-8\", lowercase=True, \n",
    "                analyzer=\"word\", ngram_range=(1, 1), max_df=1.0, min_df=1\n",
    "            )\n",
    "            vect.fit(X)\n",
    "            df = pd.DataFrame({\"word\": vect.get_feature_names(), \"idf\": vect.idf_})\n",
    "            df.sort_values(by=[\"idf\"], ascending=True, inplace=True)\n",
    "            number = int(len(df) * idf_filter)\n",
    "            drop_words = set(df.iloc[:number][\"word\"].tolist())\n",
    "            filtered = list()\n",
    "            for tweet in X:\n",
    "                filtered.append(\" \".join(list(filter(lambda w: w not in drop_words, tweet.split()))))\n",
    "            X = filtered\n",
    "        \n",
    "        # Drop stop words:\n",
    "        if stop_words is not None:\n",
    "            filtered = list()\n",
    "            for tweet in X:\n",
    "                filtered.append(\" \".join(list(filter(lambda w: w not in stop_words, tweet.split()))))\n",
    "            X = filtered\n",
    "\n",
    "        self.X = X\n",
    "        \n",
    "        # Store the word embeddings scheme:\n",
    "        self.embeddings = embeddings\n",
    "        \n",
    "        # Unique vocabulary of the embedding scheme:\n",
    "        self.embeddings_vocab = set(embeddings.key_to_index)\n",
    "        \n",
    "        # Unique vocabulary of the inputs:\n",
    "        self.X_vocab = {w for words in [s.split() for s in X] for w in words}\n",
    "        \n",
    "        # Unknown words in the input:\n",
    "        self.unknown_words = self.X_vocab - self.embeddings_vocab\n",
    "\n",
    "        # Common vocabulary between the input and the embeddings scheme:\n",
    "        self.common_vocab = self.embeddings_vocab & self.X_vocab\n",
    "        self.vocab_coverage = len(self.common_vocab) / len(self.X_vocab)\n",
    "        print(f\"{len(self.X_vocab):} processed input words, \"\\\n",
    "              f\"{len(self.common_vocab):} found in embeddings \"\\\n",
    "              f\"({self.vocab_coverage*100:.2f}%).\")\n",
    "\n",
    "        # Lookup table from words to their embeddings:\n",
    "        self.embeddings_table = pd.DataFrame(embeddings[self.common_vocab], index=self.common_vocab).sort_index()\n",
    "        \n",
    "        # Iterate through input tweets removing unknown words, creating average/min/max embeddings:\n",
    "        embedding_mu, embedding_max, embedding_min, clean_tweets = list(), list(), list(), list()\n",
    "        for i, tweet in enumerate(self.X):\n",
    "            \n",
    "            # Remove unknown words:\n",
    "            words = tweet.split()\n",
    "            known_words = [w for w in words if w in self.common_vocab]\n",
    "            clean_tweets.append(\" \".join(known_words))\n",
    "            \n",
    "            # Calculate mean of all word embeddings in tweet:\n",
    "            mean_array = self.embeddings_table.loc[known_words].mean().values\n",
    "            embedding_mu.append(mean_array)\n",
    "            \n",
    "            # Calculate min/max of all word embeddings in tweet:\n",
    "            max_array = self.embeddings_table.loc[known_words].max().values\n",
    "            embedding_max.append(max_array)\n",
    "            min_array = self.embeddings_table.loc[known_words].min().values\n",
    "            embedding_min.append(min_array)\n",
    "            \n",
    "        # Arrays of final X datasets in word embedding formats:\n",
    "        self.embedding_mu = pd.DataFrame(np.array(embedding_mu))\n",
    "        self.embedding_min = np.array(embedding_min)\n",
    "        self.embedding_max = np.array(embedding_max)\n",
    "        self.embedding_minmax = pd.DataFrame(np.concatenate([self.embedding_min, self.embedding_max], axis=1))\n",
    "        \n",
    "    @property\n",
    "    def embedding_chars(self):\n",
    "        \"\"\"Unique characters in the word embeddings.\"\"\"\n",
    "        return \"\".join(sorted(set([c for w in self.embeddings.index_to_key for c in w])))\n",
    "    \n",
    "    @staticmethod\n",
    "    def correct_spellings(words: list):\n",
    "        \"\"\"Use pyspellchecker to save a dictionary of unknown words\n",
    "        to corrected spellings, or just load presaved corrections. \n",
    "        See:\n",
    "            https://github.com/barrust/pyspellchecker\n",
    "        \"\"\"\n",
    "        fp = os.path.join(os.getcwd(), \"spelling_corrections.yaml\")\n",
    "        if not os.path.exists(fp):\n",
    "            corrections = dict()\n",
    "            with open(fp, \"w\") as stream:\n",
    "                yaml.safe_dump(corrections, stream)\n",
    "        else:\n",
    "            with open(fp, \"r\") as stream:\n",
    "                corrections = yaml.safe_load(stream)\n",
    "            if corrections is None:\n",
    "                corrections = dict()\n",
    "        to_correct = [w for w in words if w not in corrections]\n",
    "        if to_correct:\n",
    "            spell = SpellChecker()\n",
    "            new = {w: spell.correction(w) for w in to_correct}\n",
    "            corrections = {**corrections, **new}\n",
    "            with open(fp, \"w\") as stream:\n",
    "                yaml.safe_dump(corrections, stream)\n",
    "            print(f\"Saved {len(new):} spelling corrections to file.\")\n",
    "        return corrections\n"
   ]
  },
  {
   "cell_type": "code",
   "execution_count": 55,
   "metadata": {},
   "outputs": [
    {
     "name": "stdout",
     "output_type": "stream",
     "text": [
      "[=============-------------------------------------] 26.7% 202.6/758.5MB downloaded"
     ]
    },
    {
     "name": "stderr",
     "output_type": "stream",
     "text": [
      "IOPub message rate exceeded.\n",
      "The notebook server will temporarily stop sending output\n",
      "to the client in order to avoid crashing it.\n",
      "To change this limit, set the config variable\n",
      "`--NotebookApp.iopub_msg_rate_limit`.\n",
      "\n",
      "Current values:\n",
      "NotebookApp.iopub_msg_rate_limit=1000.0 (msgs/sec)\n",
      "NotebookApp.rate_limit_window=3.0 (secs)\n",
      "\n"
     ]
    },
    {
     "name": "stdout",
     "output_type": "stream",
     "text": [
      "[=================================-----------------] 67.0% 508.0/758.5MB downloaded"
     ]
    },
    {
     "name": "stderr",
     "output_type": "stream",
     "text": [
      "IOPub message rate exceeded.\n",
      "The notebook server will temporarily stop sending output\n",
      "to the client in order to avoid crashing it.\n",
      "To change this limit, set the config variable\n",
      "`--NotebookApp.iopub_msg_rate_limit`.\n",
      "\n",
      "Current values:\n",
      "NotebookApp.iopub_msg_rate_limit=1000.0 (msgs/sec)\n",
      "NotebookApp.rate_limit_window=3.0 (secs)\n",
      "\n"
     ]
    },
    {
     "name": "stdout",
     "output_type": "stream",
     "text": [
      "[================================================--] 96.2% 729.5/758.5MB downloaded"
     ]
    },
    {
     "name": "stderr",
     "output_type": "stream",
     "text": [
      "IOPub message rate exceeded.\n",
      "The notebook server will temporarily stop sending output\n",
      "to the client in order to avoid crashing it.\n",
      "To change this limit, set the config variable\n",
      "`--NotebookApp.iopub_msg_rate_limit`.\n",
      "\n",
      "Current values:\n",
      "NotebookApp.iopub_msg_rate_limit=1000.0 (msgs/sec)\n",
      "NotebookApp.rate_limit_window=3.0 (secs)\n",
      "\n"
     ]
    },
    {
     "name": "stdout",
     "output_type": "stream",
     "text": [
      "[==================================================] 100.0% 758.5/758.5MB downloaded\n",
      "Pre-trained vectors based on 2B tweets, 27B tokens, 1.2M vocab, uncased (https://nlp.stanford.edu/projects/glove/).\n"
     ]
    }
   ],
   "source": [
    "from gensim import downloader\n",
    "\n",
    "\n",
    "# Load the pretrained word embeddings (this takes a while):\n",
    "glove_twitter = downloader.load(\"glove-twitter-200\")\n",
    "info = downloader.info()\n",
    "print(info[\"models\"][\"glove-twitter-200\"][\"description\"])"
   ]
  },
  {
   "cell_type": "code",
   "execution_count": 56,
   "metadata": {},
   "outputs": [
    {
     "name": "stdout",
     "output_type": "stream",
     "text": [
      "12145 processed input words, 11404 found in embeddings (93.90%).\n",
      "5507 processed input words, 5141 found in embeddings (93.35%).\n"
     ]
    }
   ],
   "source": [
    "# Use the WordEmbeddings class to apply embeddings to the training & validation data:\n",
    "# train_we = WordEmbeddings(train[\"text\"], glove_twitter, idf_filter=0.05)\n",
    "# validation_we = WordEmbeddings(validation[\"text\"], glove_twitter, idf_filter=0.05)\n",
    "train_we = WordEmbeddings(train[\"text\"], glove_twitter, idf_filter=None)\n",
    "validation_we = WordEmbeddings(validation[\"text\"], glove_twitter, idf_filter=None)\n",
    "\n",
    "\n"
   ]
  },
  {
   "cell_type": "code",
   "execution_count": 128,
   "metadata": {},
   "outputs": [
    {
     "name": "stdout",
     "output_type": "stream",
     "text": [
      "Mean accuracy on 5-fold cross validation = 0.740\n",
      "Validation accuracy = 0.737\n"
     ]
    },
    {
     "data": {
      "image/png": "[encoded data removed]",
      "text/plain": [
       "<Figure size 432x288 with 2 Axes>"
      ]
     },
     "metadata": {
      "needs_background": "light"
     },
     "output_type": "display_data"
    }
   ],
   "source": [
    "from sklearn import metrics\n",
    "\n",
    "train_vec = train_we.embedding_mu\n",
    "\n",
    "model = BernoulliNB(alpha=0.75)\n",
    "crossval = cross_validate(model, train_vec, train_labels, cv=5, return_estimator=True)\n",
    "mean_score = crossval[\"test_score\"].mean()\n",
    "print(f\"Mean accuracy on 5-fold cross validation = {mean_score:.3f}\")\n",
    "best_estimator = crossval[\"estimator\"][crossval[\"test_score\"].argmax()]\n",
    "\n",
    "dev_vec = validation_we.embedding_mu\n",
    "dev_score = best_estimator.score(dev_vec, dev_labels)\n",
    "print(f\"Validation accuracy = {dev_score:.3f}\")\n",
    "\n",
    "cm = plot_confusion_matrix(best_estimator, dev_vec, dev_labels)"
   ]
  },
  {
   "cell_type": "code",
   "execution_count": 129,
   "metadata": {},
   "outputs": [
    {
     "name": "stdout",
     "output_type": "stream",
     "text": [
      "Mean accuracy on 5-fold cross validation = 0.801\n",
      "Validation accuracy = 0.799\n"
     ]
    },
    {
     "data": {
      "image/png": "[encoded data removed]",
      "text/plain": [
       "<Figure size 432x288 with 2 Axes>"
      ]
     },
     "metadata": {
      "needs_background": "light"
     },
     "output_type": "display_data"
    }
   ],
   "source": [
    "vec = CountVectorizer(preprocessor=tokenize)\n",
    "vec.fit(train_data)\n",
    "train_vec = vec.transform(train_data)\n",
    "\n",
    "model = BernoulliNB(alpha=0.75)\n",
    "crossval = cross_validate(model, train_vec, train_labels, cv=5, return_estimator=True)\n",
    "mean_score = crossval[\"test_score\"].mean()\n",
    "print(f\"Mean accuracy on 5-fold cross validation = {mean_score:.3f}\")\n",
    "best_estimator = crossval[\"estimator\"][crossval[\"test_score\"].argmax()]\n",
    "dev_vec = vec.transform(dev_data)\n",
    "dev_score = best_estimator.score(dev_vec, dev_labels)\n",
    "print(f\"Validation accuracy = {dev_score:.3f}\")\n",
    "\n",
    "cm = plot_confusion_matrix(best_estimator, dev_vec, dev_labels)"
   ]
  },
  {
   "cell_type": "code",
   "execution_count": 118,
   "metadata": {},
   "outputs": [
    {
     "name": "stderr",
     "output_type": "stream",
     "text": [
      "[nltk_data] Downloading package punkt to\n",
      "[nltk_data]     /Users/ruthashford/nltk_data...\n",
      "[nltk_data]   Package punkt is already up-to-date!\n",
      "[nltk_data] Downloading package wordnet to\n",
      "[nltk_data]     /Users/ruthashford/nltk_data...\n",
      "[nltk_data]   Package wordnet is already up-to-date!\n"
     ]
    }
   ],
   "source": [
    "# Testing the processor Ruth created\n",
    "\n",
    "import nltk\n",
    "from nltk.stem import WordNetLemmatizer\n",
    "from nltk.stem.porter import PorterStemmer\n",
    "nltk.download('punkt')\n",
    "nltk.download('wordnet')\n",
    "stemmer = PorterStemmer()\n",
    "lemmer = WordNetLemmatizer()\n",
    "\n",
    "def stem_sentence(text):\n",
    "    token_words=word_tokenize(text)\n",
    "    stem_sentence=[]\n",
    "    for word in token_words:\n",
    "        stem_sentence.append(stemmer.stem(word))\n",
    "        stem_sentence.append(\" \")\n",
    "    return \"\".join(stem_sentence)\n",
    "\n",
    "def lem_sentence(text):\n",
    "    token_words=word_tokenize(text)\n",
    "    stem_sentence=[]\n",
    "    for word in token_words:\n",
    "        stem_sentence.append(lemmer.lemmatize(word, pos='n'))\n",
    "        stem_sentence.append(\" \")\n",
    "    return \"\".join(stem_sentence)\n",
    "\n",
    "def clean_text(text):\n",
    "    text = text.lower()\n",
    "    text = re.sub(r'https?:\\/\\/.*[\\r\\n]*', '', text)\n",
    "    text = re.sub(r'http?:\\/\\/.*[\\r\\n]*', '', text)\n",
    "    text = re.sub(r\"(?:\\@)\\w+\", ' ', text)\n",
    "    text = re.sub(r'[:\"#$%&\\*+,-/:;<=>@\\\\^_`{|}~?!]+',' ',text)\n",
    "    text = re.sub(r\"[']+\",'',text)\n",
    "    \n",
    "    text=text.replace(r'&amp;?',r'and')\n",
    "    text=text.replace(r'&lt;',r'<')\n",
    "    text=text.replace(r'&gt;',r'>')\n",
    "    \n",
    "    text=text.encode(\"ascii\",errors=\"ignore\").decode()\n",
    "\n",
    "    return text\n",
    "\n",
    "def clean_and_lem(text):\n",
    "    return lem_sentence(clean_text(text))\n",
    "\n",
    "def clean_and_stem(text):\n",
    "    return stem_sentence(clean_text(text))"
   ]
  },
  {
   "cell_type": "code",
   "execution_count": 120,
   "metadata": {},
   "outputs": [
    {
     "name": "stdout",
     "output_type": "stream",
     "text": [
      "Bernoulli distribution, p = 0.430\n",
      "Mean accuracy on 5-fold cross validation = 0.802\n",
      "Validation accuracy = 0.807\n"
     ]
    },
    {
     "data": {
      "image/png": "[encoded data removed]",
      "text/plain": [
       "<Figure size 432x288 with 2 Axes>"
      ]
     },
     "metadata": {
      "needs_background": "light"
     },
     "output_type": "display_data"
    }
   ],
   "source": [
    "vec = CountVectorizer(preprocessor=clean_and_lem)\n",
    "vec.fit(train_data)\n",
    "train_vec = vec.transform(train_data)\n",
    "\n",
    "model = BernoulliNB(alpha=0.75)\n",
    "crossval = cross_validate(model, train_vec, train_labels, cv=5, return_estimator=True)\n",
    "mean_score = crossval[\"test_score\"].mean()\n",
    "print(f\"Mean accuracy on 5-fold cross validation = {mean_score:.3f}\")\n",
    "best_estimator = crossval[\"estimator\"][crossval[\"test_score\"].argmax()]\n",
    "dev_vec = vec.transform(dev_data)\n",
    "dev_score = best_estimator.score(dev_vec, dev_labels)\n",
    "print(f\"Validation accuracy = {dev_score:.3f}\")\n",
    "\n",
    "cm = plot_confusion_matrix(best_estimator, dev_vec, dev_labels)\n"
   ]
  },
  {
   "cell_type": "code",
   "execution_count": 130,
   "metadata": {},
   "outputs": [
    {
     "name": "stdout",
     "output_type": "stream",
     "text": [
      "Mean accuracy on 5-fold cross validation = 0.803\n",
      "Validation accuracy = 0.808\n"
     ]
    },
    {
     "data": {
      "image/png": "[encoded data removed]",
      "text/plain": [
       "<Figure size 432x288 with 2 Axes>"
      ]
     },
     "metadata": {
      "needs_background": "light"
     },
     "output_type": "display_data"
    }
   ],
   "source": [
    "vec = TfidfVectorizer(preprocessor=clean_and_lem, encoding='utf-8',\n",
    "                       ngram_range=(1,1),\n",
    "                       max_features=11000, \n",
    "                       norm='l2'\n",
    "                    )\n",
    "vec.fit(train_data)\n",
    "train_vec = vec.transform(train_data)\n",
    "\n",
    "model = BernoulliNB(alpha=0.75)\n",
    "crossval = cross_validate(model, train_vec, train_labels, cv=5, return_estimator=True)\n",
    "mean_score = crossval[\"test_score\"].mean()\n",
    "print(f\"Mean accuracy on 5-fold cross validation = {mean_score:.3f}\")\n",
    "best_estimator = crossval[\"estimator\"][crossval[\"test_score\"].argmax()]\n",
    "dev_vec = vec.transform(dev_data)\n",
    "dev_score = best_estimator.score(dev_vec, dev_labels)\n",
    "print(f\"Validation accuracy = {dev_score:.3f}\")\n",
    "\n",
    "cm = plot_confusion_matrix(best_estimator, dev_vec, dev_labels)\n",
    "?best_estimator"
   ]
  }
 ],
 "metadata": {
  "kernelspec": {
   "display_name": "Python 3",
   "language": "python",
   "name": "python3"
  },
  "language_info": {
   "codemirror_mode": {
    "name": "ipython",
    "version": 3
   },
   "file_extension": ".py",
   "mimetype": "text/x-python",
   "name": "python",
   "nbconvert_exporter": "python",
   "pygments_lexer": "ipython3",
   "version": "3.8.3"
  }
 },
 "nbformat": 4,
 "nbformat_minor": 4
}
