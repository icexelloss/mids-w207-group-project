{
 "cells": [
  {
   "cell_type": "markdown",
   "metadata": {},
   "source": [
    "## Natural Language Processing with Disaster Tweets\n",
    "##### Authors: Ruth Ashford, Toby Petty and Li Jin\n",
    "This report is based on a Kaggle competition: https://www.kaggle.com/c/nlp-getting-started/data\n",
    "\n",
    "The aim is to classify tweets as being about a disaster or not. We are given a labelled training data set a long with a unlabelled test data set. \n",
    "\n",
    "In the report, we perform initial EDA on the data, cleaning and processing of the tweets text and evaluate the performance Naive Bayes, Neural Network and Logistic Regression models."
   ]
  },
  {
   "cell_type": "code",
   "execution_count": 19,
   "metadata": {},
   "outputs": [
    {
     "name": "stdout",
     "output_type": "stream",
     "text": [
      "Train: (7613, 5)\n",
      "Test:  (3263, 4)\n"
     ]
    },
    {
     "data": {
      "text/html": [
       "<div>\n",
       "<style scoped>\n",
       "    .dataframe tbody tr th:only-of-type {\n",
       "        vertical-align: middle;\n",
       "    }\n",
       "\n",
       "    .dataframe tbody tr th {\n",
       "        vertical-align: top;\n",
       "    }\n",
       "\n",
       "    .dataframe thead th {\n",
       "        text-align: right;\n",
       "    }\n",
       "</style>\n",
       "<table border=\"1\" class=\"dataframe\">\n",
       "  <thead>\n",
       "    <tr style=\"text-align: right;\">\n",
       "      <th></th>\n",
       "      <th>id</th>\n",
       "      <th>keyword</th>\n",
       "      <th>location</th>\n",
       "      <th>text</th>\n",
       "      <th>target</th>\n",
       "    </tr>\n",
       "  </thead>\n",
       "  <tbody>\n",
       "    <tr>\n",
       "      <th>0</th>\n",
       "      <td>1</td>\n",
       "      <td>NaN</td>\n",
       "      <td>NaN</td>\n",
       "      <td>Our Deeds are the Reason of this #earthquake May ALLAH Forgive us all</td>\n",
       "      <td>1</td>\n",
       "    </tr>\n",
       "    <tr>\n",
       "      <th>1</th>\n",
       "      <td>4</td>\n",
       "      <td>NaN</td>\n",
       "      <td>NaN</td>\n",
       "      <td>Forest fire near La Ronge Sask. Canada</td>\n",
       "      <td>1</td>\n",
       "    </tr>\n",
       "    <tr>\n",
       "      <th>2</th>\n",
       "      <td>5</td>\n",
       "      <td>NaN</td>\n",
       "      <td>NaN</td>\n",
       "      <td>All residents asked to 'shelter in place' are being notified by officers. No other evacuation or shelter in place orders are expected</td>\n",
       "      <td>1</td>\n",
       "    </tr>\n",
       "    <tr>\n",
       "      <th>3</th>\n",
       "      <td>6</td>\n",
       "      <td>NaN</td>\n",
       "      <td>NaN</td>\n",
       "      <td>13,000 people receive #wildfires evacuation orders in California</td>\n",
       "      <td>1</td>\n",
       "    </tr>\n",
       "    <tr>\n",
       "      <th>4</th>\n",
       "      <td>7</td>\n",
       "      <td>NaN</td>\n",
       "      <td>NaN</td>\n",
       "      <td>Just got sent this photo from Ruby #Alaska as smoke from #wildfires pours into a school</td>\n",
       "      <td>1</td>\n",
       "    </tr>\n",
       "  </tbody>\n",
       "</table>\n",
       "</div>"
      ],
      "text/plain": [
       "   id keyword location  \\\n",
       "0   1     NaN      NaN   \n",
       "1   4     NaN      NaN   \n",
       "2   5     NaN      NaN   \n",
       "3   6     NaN      NaN   \n",
       "4   7     NaN      NaN   \n",
       "\n",
       "                                                                                                                                    text  \\\n",
       "0                                                                  Our Deeds are the Reason of this #earthquake May ALLAH Forgive us all   \n",
       "1                                                                                                 Forest fire near La Ronge Sask. Canada   \n",
       "2  All residents asked to 'shelter in place' are being notified by officers. No other evacuation or shelter in place orders are expected   \n",
       "3                                                                      13,000 people receive #wildfires evacuation orders in California    \n",
       "4                                               Just got sent this photo from Ruby #Alaska as smoke from #wildfires pours into a school    \n",
       "\n",
       "   target  \n",
       "0       1  \n",
       "1       1  \n",
       "2       1  \n",
       "3       1  \n",
       "4       1  "
      ]
     },
     "execution_count": 19,
     "metadata": {},
     "output_type": "execute_result"
    }
   ],
   "source": [
    "import numpy as np\n",
    "import os\n",
    "import pandas as pd\n",
    "pd.set_option(\"display.max_colwidth\", 500)\n",
    "\n",
    "data_fp = os.path.join(os.getcwd(), \"data\")\n",
    "train_fp = os.path.join(data_fp, \"train.csv\")\n",
    "train_full = pd.read_csv(train_fp, encoding=\"utf-8\")\n",
    "test_fp = os.path.join(data_fp, \"test.csv\")\n",
    "test = pd.read_csv(test_fp, encoding=\"utf-8\")\n",
    "\n",
    "print(f\"Train: {train_full.shape}\")\n",
    "print(f\"Test:  {test.shape}\")\n",
    "\n",
    "train_full.head()"
   ]
  },
  {
   "cell_type": "markdown",
   "metadata": {},
   "source": [
    "Kaggle supplies the test set (without target labels), so we will submit our final predictions there to get the ultimate measure of model performance. We separate 20% of the training data as a validation set."
   ]
  },
  {
   "cell_type": "markdown",
   "metadata": {},
   "source": [
    "## Exploratory data analysis\n"
   ]
  },
  {
   "cell_type": "markdown",
   "metadata": {},
   "source": [
    "Firstly we will check the number of samples that are labelled as disaster (1) and non-disaster (0)"
   ]
  },
  {
   "cell_type": "code",
   "execution_count": 20,
   "metadata": {},
   "outputs": [
    {
     "data": {
      "text/html": [
       "<div>\n",
       "<style scoped>\n",
       "    .dataframe tbody tr th:only-of-type {\n",
       "        vertical-align: middle;\n",
       "    }\n",
       "\n",
       "    .dataframe tbody tr th {\n",
       "        vertical-align: top;\n",
       "    }\n",
       "\n",
       "    .dataframe thead th {\n",
       "        text-align: right;\n",
       "    }\n",
       "</style>\n",
       "<table border=\"1\" class=\"dataframe\">\n",
       "  <thead>\n",
       "    <tr style=\"text-align: right;\">\n",
       "      <th></th>\n",
       "      <th>Total</th>\n",
       "      <th>Percentage</th>\n",
       "    </tr>\n",
       "    <tr>\n",
       "      <th>target</th>\n",
       "      <th></th>\n",
       "      <th></th>\n",
       "    </tr>\n",
       "  </thead>\n",
       "  <tbody>\n",
       "    <tr>\n",
       "      <th>0</th>\n",
       "      <td>3473</td>\n",
       "      <td>57.0</td>\n",
       "    </tr>\n",
       "    <tr>\n",
       "      <th>1</th>\n",
       "      <td>2617</td>\n",
       "      <td>43.0</td>\n",
       "    </tr>\n",
       "  </tbody>\n",
       "</table>\n",
       "</div>"
      ],
      "text/plain": [
       "        Total  Percentage\n",
       "target                   \n",
       "0        3473        57.0\n",
       "1        2617        43.0"
      ]
     },
     "execution_count": 20,
     "metadata": {},
     "output_type": "execute_result"
    }
   ],
   "source": [
    "train_label_summary = train.groupby('target').agg(Total = ('id','count'))\n",
    "train_label_summary['Percentage'] = round(train_label_summary['Total'] / train.shape[0] * 100, 1)\n",
    "train_label_summary"
   ]
  },
  {
   "cell_type": "markdown",
   "metadata": {},
   "source": [
    "This shows us that we have a fairly even split of disaster and non-disaster labelled samples. This is useful when training our model but tell us that this data set is not likely to be representative of the general population of tweets, we know in general there are far less than 43% of tweets that are about disasters."
   ]
  },
  {
   "cell_type": "markdown",
   "metadata": {},
   "source": [
    "### Keywords\n",
    "Next we want to take a look at the keywords and how they relate to the target. The majority of tweets in our training data have a keyword associated with them, there is just 0.2% of samples that don't."
   ]
  },
  {
   "cell_type": "code",
   "execution_count": 21,
   "metadata": {},
   "outputs": [
    {
     "name": "stdout",
     "output_type": "stream",
     "text": [
      " Percentage of tweets without a keyword: 0.2%\n"
     ]
    }
   ],
   "source": [
    "keyword_label_summary = train.groupby('keyword').agg(percentage_disaster_occurance = ('target', 'mean')).reset_index()\n",
    "\n",
    "keyword_disaster_count = train[train['target'] == 1].groupby('keyword').agg(disaster_count = ('target', 'count')).reset_index()\n",
    "keyword_not_disaster_count = train[train['target'] == 0].groupby('keyword').agg(not_disaster_count = ('target', 'count')).reset_index()\n",
    "\n",
    "keyword_label_summary = keyword_label_summary.merge(keyword_disaster_count, how='left')\n",
    "keyword_label_summary = keyword_label_summary.merge(keyword_not_disaster_count, how='left')\n",
    "\n",
    "print(f' Percentage of tweets without a keyword: {round(1 - train.keyword.isna().sum() / train.shape[0] * 100 , 2)}%')"
   ]
  },
  {
   "cell_type": "markdown",
   "metadata": {},
   "source": [
    "Below are the words that come up most often in disaster tweets."
   ]
  },
  {
   "cell_type": "code",
   "execution_count": 22,
   "metadata": {},
   "outputs": [
    {
     "data": {
      "text/html": [
       "<div>\n",
       "<style scoped>\n",
       "    .dataframe tbody tr th:only-of-type {\n",
       "        vertical-align: middle;\n",
       "    }\n",
       "\n",
       "    .dataframe tbody tr th {\n",
       "        vertical-align: top;\n",
       "    }\n",
       "\n",
       "    .dataframe thead th {\n",
       "        text-align: right;\n",
       "    }\n",
       "</style>\n",
       "<table border=\"1\" class=\"dataframe\">\n",
       "  <thead>\n",
       "    <tr style=\"text-align: right;\">\n",
       "      <th></th>\n",
       "      <th>keyword</th>\n",
       "      <th>percentage_disaster_occurance</th>\n",
       "      <th>disaster_count</th>\n",
       "      <th>not_disaster_count</th>\n",
       "    </tr>\n",
       "  </thead>\n",
       "  <tbody>\n",
       "    <tr>\n",
       "      <th>62</th>\n",
       "      <td>debris</td>\n",
       "      <td>1.000000</td>\n",
       "      <td>30.0</td>\n",
       "      <td>NaN</td>\n",
       "    </tr>\n",
       "    <tr>\n",
       "      <th>70</th>\n",
       "      <td>derailment</td>\n",
       "      <td>1.000000</td>\n",
       "      <td>33.0</td>\n",
       "      <td>NaN</td>\n",
       "    </tr>\n",
       "    <tr>\n",
       "      <th>219</th>\n",
       "      <td>wreckage</td>\n",
       "      <td>1.000000</td>\n",
       "      <td>25.0</td>\n",
       "      <td>NaN</td>\n",
       "    </tr>\n",
       "    <tr>\n",
       "      <th>153</th>\n",
       "      <td>outbreak</td>\n",
       "      <td>0.965517</td>\n",
       "      <td>28.0</td>\n",
       "      <td>1.0</td>\n",
       "    </tr>\n",
       "    <tr>\n",
       "      <th>152</th>\n",
       "      <td>oil%20spill</td>\n",
       "      <td>0.964286</td>\n",
       "      <td>27.0</td>\n",
       "      <td>1.0</td>\n",
       "    </tr>\n",
       "    <tr>\n",
       "      <th>205</th>\n",
       "      <td>typhoon</td>\n",
       "      <td>0.962963</td>\n",
       "      <td>26.0</td>\n",
       "      <td>1.0</td>\n",
       "    </tr>\n",
       "    <tr>\n",
       "      <th>187</th>\n",
       "      <td>suicide%20bombing</td>\n",
       "      <td>0.962963</td>\n",
       "      <td>26.0</td>\n",
       "      <td>1.0</td>\n",
       "    </tr>\n",
       "    <tr>\n",
       "      <th>186</th>\n",
       "      <td>suicide%20bomber</td>\n",
       "      <td>0.956522</td>\n",
       "      <td>22.0</td>\n",
       "      <td>1.0</td>\n",
       "    </tr>\n",
       "    <tr>\n",
       "      <th>32</th>\n",
       "      <td>bombing</td>\n",
       "      <td>0.950000</td>\n",
       "      <td>19.0</td>\n",
       "      <td>1.0</td>\n",
       "    </tr>\n",
       "    <tr>\n",
       "      <th>147</th>\n",
       "      <td>nuclear%20disaster</td>\n",
       "      <td>0.928571</td>\n",
       "      <td>26.0</td>\n",
       "      <td>2.0</td>\n",
       "    </tr>\n",
       "    <tr>\n",
       "      <th>162</th>\n",
       "      <td>razed</td>\n",
       "      <td>0.923077</td>\n",
       "      <td>24.0</td>\n",
       "      <td>2.0</td>\n",
       "    </tr>\n",
       "    <tr>\n",
       "      <th>166</th>\n",
       "      <td>rescuers</td>\n",
       "      <td>0.923077</td>\n",
       "      <td>24.0</td>\n",
       "      <td>2.0</td>\n",
       "    </tr>\n",
       "    <tr>\n",
       "      <th>185</th>\n",
       "      <td>suicide%20bomb</td>\n",
       "      <td>0.896552</td>\n",
       "      <td>26.0</td>\n",
       "      <td>3.0</td>\n",
       "    </tr>\n",
       "    <tr>\n",
       "      <th>139</th>\n",
       "      <td>mass%20murder</td>\n",
       "      <td>0.892857</td>\n",
       "      <td>25.0</td>\n",
       "      <td>3.0</td>\n",
       "    </tr>\n",
       "    <tr>\n",
       "      <th>213</th>\n",
       "      <td>wild%20fires</td>\n",
       "      <td>0.888889</td>\n",
       "      <td>24.0</td>\n",
       "      <td>3.0</td>\n",
       "    </tr>\n",
       "    <tr>\n",
       "      <th>96</th>\n",
       "      <td>evacuated</td>\n",
       "      <td>0.884615</td>\n",
       "      <td>23.0</td>\n",
       "      <td>3.0</td>\n",
       "    </tr>\n",
       "    <tr>\n",
       "      <th>115</th>\n",
       "      <td>forest%20fire</td>\n",
       "      <td>0.866667</td>\n",
       "      <td>13.0</td>\n",
       "      <td>2.0</td>\n",
       "    </tr>\n",
       "    <tr>\n",
       "      <th>214</th>\n",
       "      <td>wildfire</td>\n",
       "      <td>0.862069</td>\n",
       "      <td>25.0</td>\n",
       "      <td>4.0</td>\n",
       "    </tr>\n",
       "    <tr>\n",
       "      <th>193</th>\n",
       "      <td>terrorist</td>\n",
       "      <td>0.857143</td>\n",
       "      <td>18.0</td>\n",
       "      <td>3.0</td>\n",
       "    </tr>\n",
       "    <tr>\n",
       "      <th>35</th>\n",
       "      <td>buildings%20on%20fire</td>\n",
       "      <td>0.851852</td>\n",
       "      <td>23.0</td>\n",
       "      <td>4.0</td>\n",
       "    </tr>\n",
       "  </tbody>\n",
       "</table>\n",
       "</div>"
      ],
      "text/plain": [
       "                   keyword  percentage_disaster_occurance  disaster_count  \\\n",
       "62                  debris                       1.000000            30.0   \n",
       "70              derailment                       1.000000            33.0   \n",
       "219               wreckage                       1.000000            25.0   \n",
       "153               outbreak                       0.965517            28.0   \n",
       "152            oil%20spill                       0.964286            27.0   \n",
       "205                typhoon                       0.962963            26.0   \n",
       "187      suicide%20bombing                       0.962963            26.0   \n",
       "186       suicide%20bomber                       0.956522            22.0   \n",
       "32                 bombing                       0.950000            19.0   \n",
       "147     nuclear%20disaster                       0.928571            26.0   \n",
       "162                  razed                       0.923077            24.0   \n",
       "166               rescuers                       0.923077            24.0   \n",
       "185         suicide%20bomb                       0.896552            26.0   \n",
       "139          mass%20murder                       0.892857            25.0   \n",
       "213           wild%20fires                       0.888889            24.0   \n",
       "96               evacuated                       0.884615            23.0   \n",
       "115          forest%20fire                       0.866667            13.0   \n",
       "214               wildfire                       0.862069            25.0   \n",
       "193              terrorist                       0.857143            18.0   \n",
       "35   buildings%20on%20fire                       0.851852            23.0   \n",
       "\n",
       "     not_disaster_count  \n",
       "62                  NaN  \n",
       "70                  NaN  \n",
       "219                 NaN  \n",
       "153                 1.0  \n",
       "152                 1.0  \n",
       "205                 1.0  \n",
       "187                 1.0  \n",
       "186                 1.0  \n",
       "32                  1.0  \n",
       "147                 2.0  \n",
       "162                 2.0  \n",
       "166                 2.0  \n",
       "185                 3.0  \n",
       "139                 3.0  \n",
       "213                 3.0  \n",
       "96                  3.0  \n",
       "115                 2.0  \n",
       "214                 4.0  \n",
       "193                 3.0  \n",
       "35                  4.0  "
      ]
     },
     "execution_count": 22,
     "metadata": {},
     "output_type": "execute_result"
    }
   ],
   "source": [
    "keyword_label_summary.sort_values('percentage_disaster_occurance', \n",
    "                                  ascending=False).head(20)"
   ]
  },
  {
   "cell_type": "markdown",
   "metadata": {},
   "source": [
    "Below are the kewords that come up most often in non-disaster tweets. I can see that 'body%20bags' and body%20bag' is a duplicate and needs cleaning up. There are a lot of words here that I would associate with disasters, such as 'ruin', 'explode' and 'wrecked' but these are also words that could be used in a sentence when not describing a disaster."
   ]
  },
  {
   "cell_type": "code",
   "execution_count": 23,
   "metadata": {},
   "outputs": [
    {
     "data": {
      "text/html": [
       "<div>\n",
       "<style scoped>\n",
       "    .dataframe tbody tr th:only-of-type {\n",
       "        vertical-align: middle;\n",
       "    }\n",
       "\n",
       "    .dataframe tbody tr th {\n",
       "        vertical-align: top;\n",
       "    }\n",
       "\n",
       "    .dataframe thead th {\n",
       "        text-align: right;\n",
       "    }\n",
       "</style>\n",
       "<table border=\"1\" class=\"dataframe\">\n",
       "  <thead>\n",
       "    <tr style=\"text-align: right;\">\n",
       "      <th></th>\n",
       "      <th>keyword</th>\n",
       "      <th>percentage_disaster_occurance</th>\n",
       "      <th>disaster_count</th>\n",
       "      <th>not_disaster_count</th>\n",
       "    </tr>\n",
       "  </thead>\n",
       "  <tbody>\n",
       "    <tr>\n",
       "      <th>21</th>\n",
       "      <td>blew%20up</td>\n",
       "      <td>0.000000</td>\n",
       "      <td>NaN</td>\n",
       "      <td>25.0</td>\n",
       "    </tr>\n",
       "    <tr>\n",
       "      <th>2</th>\n",
       "      <td>aftershock</td>\n",
       "      <td>0.000000</td>\n",
       "      <td>NaN</td>\n",
       "      <td>25.0</td>\n",
       "    </tr>\n",
       "    <tr>\n",
       "      <th>29</th>\n",
       "      <td>body%20bags</td>\n",
       "      <td>0.026316</td>\n",
       "      <td>1.0</td>\n",
       "      <td>37.0</td>\n",
       "    </tr>\n",
       "    <tr>\n",
       "      <th>19</th>\n",
       "      <td>blazing</td>\n",
       "      <td>0.033333</td>\n",
       "      <td>1.0</td>\n",
       "      <td>29.0</td>\n",
       "    </tr>\n",
       "    <tr>\n",
       "      <th>25</th>\n",
       "      <td>bloody</td>\n",
       "      <td>0.034483</td>\n",
       "      <td>1.0</td>\n",
       "      <td>28.0</td>\n",
       "    </tr>\n",
       "    <tr>\n",
       "      <th>170</th>\n",
       "      <td>ruin</td>\n",
       "      <td>0.035714</td>\n",
       "      <td>1.0</td>\n",
       "      <td>27.0</td>\n",
       "    </tr>\n",
       "    <tr>\n",
       "      <th>27</th>\n",
       "      <td>body%20bag</td>\n",
       "      <td>0.041667</td>\n",
       "      <td>1.0</td>\n",
       "      <td>23.0</td>\n",
       "    </tr>\n",
       "    <tr>\n",
       "      <th>201</th>\n",
       "      <td>traumatised</td>\n",
       "      <td>0.043478</td>\n",
       "      <td>1.0</td>\n",
       "      <td>22.0</td>\n",
       "    </tr>\n",
       "    <tr>\n",
       "      <th>48</th>\n",
       "      <td>collide</td>\n",
       "      <td>0.043478</td>\n",
       "      <td>1.0</td>\n",
       "      <td>22.0</td>\n",
       "    </tr>\n",
       "    <tr>\n",
       "      <th>88</th>\n",
       "      <td>electrocute</td>\n",
       "      <td>0.043478</td>\n",
       "      <td>1.0</td>\n",
       "      <td>22.0</td>\n",
       "    </tr>\n",
       "    <tr>\n",
       "      <th>172</th>\n",
       "      <td>screamed</td>\n",
       "      <td>0.066667</td>\n",
       "      <td>2.0</td>\n",
       "      <td>28.0</td>\n",
       "    </tr>\n",
       "    <tr>\n",
       "      <th>156</th>\n",
       "      <td>panicking</td>\n",
       "      <td>0.068966</td>\n",
       "      <td>2.0</td>\n",
       "      <td>27.0</td>\n",
       "    </tr>\n",
       "    <tr>\n",
       "      <th>155</th>\n",
       "      <td>panic</td>\n",
       "      <td>0.068966</td>\n",
       "      <td>2.0</td>\n",
       "      <td>27.0</td>\n",
       "    </tr>\n",
       "    <tr>\n",
       "      <th>119</th>\n",
       "      <td>harm</td>\n",
       "      <td>0.071429</td>\n",
       "      <td>2.0</td>\n",
       "      <td>26.0</td>\n",
       "    </tr>\n",
       "    <tr>\n",
       "      <th>22</th>\n",
       "      <td>blight</td>\n",
       "      <td>0.071429</td>\n",
       "      <td>2.0</td>\n",
       "      <td>26.0</td>\n",
       "    </tr>\n",
       "    <tr>\n",
       "      <th>54</th>\n",
       "      <td>crushed</td>\n",
       "      <td>0.080000</td>\n",
       "      <td>2.0</td>\n",
       "      <td>23.0</td>\n",
       "    </tr>\n",
       "    <tr>\n",
       "      <th>143</th>\n",
       "      <td>meltdown</td>\n",
       "      <td>0.080000</td>\n",
       "      <td>2.0</td>\n",
       "      <td>23.0</td>\n",
       "    </tr>\n",
       "    <tr>\n",
       "      <th>173</th>\n",
       "      <td>screaming</td>\n",
       "      <td>0.080000</td>\n",
       "      <td>2.0</td>\n",
       "      <td>23.0</td>\n",
       "    </tr>\n",
       "    <tr>\n",
       "      <th>150</th>\n",
       "      <td>obliterated</td>\n",
       "      <td>0.083333</td>\n",
       "      <td>2.0</td>\n",
       "      <td>22.0</td>\n",
       "    </tr>\n",
       "    <tr>\n",
       "      <th>83</th>\n",
       "      <td>drown</td>\n",
       "      <td>0.086957</td>\n",
       "      <td>2.0</td>\n",
       "      <td>21.0</td>\n",
       "    </tr>\n",
       "  </tbody>\n",
       "</table>\n",
       "</div>"
      ],
      "text/plain": [
       "         keyword  percentage_disaster_occurance  disaster_count  \\\n",
       "21     blew%20up                       0.000000             NaN   \n",
       "2     aftershock                       0.000000             NaN   \n",
       "29   body%20bags                       0.026316             1.0   \n",
       "19       blazing                       0.033333             1.0   \n",
       "25        bloody                       0.034483             1.0   \n",
       "170         ruin                       0.035714             1.0   \n",
       "27    body%20bag                       0.041667             1.0   \n",
       "201  traumatised                       0.043478             1.0   \n",
       "48       collide                       0.043478             1.0   \n",
       "88   electrocute                       0.043478             1.0   \n",
       "172     screamed                       0.066667             2.0   \n",
       "156    panicking                       0.068966             2.0   \n",
       "155        panic                       0.068966             2.0   \n",
       "119         harm                       0.071429             2.0   \n",
       "22        blight                       0.071429             2.0   \n",
       "54       crushed                       0.080000             2.0   \n",
       "143     meltdown                       0.080000             2.0   \n",
       "173    screaming                       0.080000             2.0   \n",
       "150  obliterated                       0.083333             2.0   \n",
       "83         drown                       0.086957             2.0   \n",
       "\n",
       "     not_disaster_count  \n",
       "21                 25.0  \n",
       "2                  25.0  \n",
       "29                 37.0  \n",
       "19                 29.0  \n",
       "25                 28.0  \n",
       "170                27.0  \n",
       "27                 23.0  \n",
       "201                22.0  \n",
       "48                 22.0  \n",
       "88                 22.0  \n",
       "172                28.0  \n",
       "156                27.0  \n",
       "155                27.0  \n",
       "119                26.0  \n",
       "22                 26.0  \n",
       "54                 23.0  \n",
       "143                23.0  \n",
       "173                23.0  \n",
       "150                22.0  \n",
       "83                 21.0  "
      ]
     },
     "execution_count": 23,
     "metadata": {},
     "output_type": "execute_result"
    }
   ],
   "source": [
    "keyword_label_summary.sort_values('percentage_disaster_occurance', \n",
    "                                  ascending=True).head(20)"
   ]
  },
  {
   "cell_type": "markdown",
   "metadata": {},
   "source": [
    "### Length of tweets\n",
    "We want to understand if the length of the tweet differs for disaster tweets versus non-disaster tweets"
   ]
  },
  {
   "cell_type": "code",
   "execution_count": 24,
   "metadata": {},
   "outputs": [
    {
     "data": {
      "image/png": "[encoded data removed]",
      "text/plain": [
       "<Figure size 432x288 with 2 Axes>"
      ]
     },
     "metadata": {
      "needs_background": "light"
     },
     "output_type": "display_data"
    },
    {
     "name": "stdout",
     "output_type": "stream",
     "text": [
      "Average length of disaster tweets is 108 with standard deviation 29\n",
      "Average length of non-disaster tweets is 96 with standard deviation 36\n"
     ]
    }
   ],
   "source": [
    "import matplotlib.pyplot as plt\n",
    "\n",
    "fig, axs = plt.subplots(2)\n",
    "fig. tight_layout(pad=3.0)\n",
    "\n",
    "disaster_length = train[train['target'] == 1]['text'].apply(lambda x: len(x))\n",
    "non_disaster_length = train[train['target'] == 0]['text'].apply(lambda x: len(x))\n",
    "\n",
    "axs[0].hist(x = disaster_length, color='red', bins=20, range = (0,160))\n",
    "axs[0].set_title('Length distribution of disaster tweets')\n",
    "axs[1].hist(x = non_disaster_length, bins=20, range = (0,160))\n",
    "axs[1].set_title('Length distribution of non-disaster tweets')\n",
    "axs[1].set_xlabel('Tweet length')\n",
    "\n",
    "plt.show()\n",
    "\n",
    "print(f'Average length of disaster tweets is {round(disaster_length.mean())} ' \\\n",
    " f'with standard deviation {round(disaster_length.std())}')\n",
    "\n",
    "print(f'Average length of non-disaster tweets is {round(non_disaster_length.mean())} ' \\\n",
    " f'with standard deviation {round(non_disaster_length.std())}')\n"
   ]
  },
  {
   "cell_type": "markdown",
   "metadata": {},
   "source": [
    "We can see that the do seem to be slightly longer, but not by a huge amount."
   ]
  },
  {
   "cell_type": "markdown",
   "metadata": {},
   "source": [
    "### Number of words\n",
    "Similarily, we want to understand if there are any key differences in the number of words in the tweets."
   ]
  },
  {
   "cell_type": "code",
   "execution_count": 25,
   "metadata": {},
   "outputs": [
    {
     "data": {
      "image/png": "[encoded data removed]",
      "text/plain": [
       "<Figure size 432x288 with 2 Axes>"
      ]
     },
     "metadata": {
      "needs_background": "light"
     },
     "output_type": "display_data"
    },
    {
     "name": "stdout",
     "output_type": "stream",
     "text": [
      "Average length of disaster tweets is 19 with standard deviation 6\n",
      "Average length of non-disaster tweets is 19 with standard deviation 7\n"
     ]
    }
   ],
   "source": [
    "from nltk.tokenize import word_tokenize\n",
    "\n",
    "fig, axs = plt.subplots(2)\n",
    "fig. tight_layout(pad=3.0)\n",
    "\n",
    "disaster_wc = train[train['target'] == 1]['text'].apply(lambda x: len(word_tokenize(x)))\n",
    "non_disaster_wc = train[train['target'] == 0]['text'].apply(lambda x: len(word_tokenize(x)))\n",
    "\n",
    "axs[0].hist(x = disaster_wc, color='red', bins=20, range = (0,40))\n",
    "axs[0].set_title('Word count distribution of disaster tweets')\n",
    "axs[1].hist(x = non_disaster_wc, bins=20, range = (0,40))\n",
    "axs[1].set_title('Word count distribution of non-disaster tweets')\n",
    "axs[1].set_xlabel('Tweet word count')\n",
    "\n",
    "plt.show()\n",
    "\n",
    "print(f'Average length of disaster tweets is {round(disaster_wc.mean())} ' \\\n",
    " f'with standard deviation {round(disaster_wc.std())}')\n",
    "\n",
    "print(f'Average length of non-disaster tweets is {round(non_disaster_wc.mean())} ' \\\n",
    " f'with standard deviation {round(non_disaster_wc.std())}')"
   ]
  },
  {
   "cell_type": "markdown",
   "metadata": {},
   "source": [
    "Again, no real difference here between disaster and non-disaster tweets."
   ]
  },
  {
   "cell_type": "markdown",
   "metadata": {},
   "source": [
    "### Location\n",
    "\n",
    "Location data is provided for 65% of the samples. The location data seems to range from being as broad as a country, or as specific as the name of a restaurant."
   ]
  },
  {
   "cell_type": "code",
   "execution_count": 26,
   "metadata": {},
   "outputs": [
    {
     "name": "stdout",
     "output_type": "stream",
     "text": [
      " Percentage of tweets without a location: 66.55%\n"
     ]
    },
    {
     "data": {
      "text/html": [
       "<div>\n",
       "<style scoped>\n",
       "    .dataframe tbody tr th:only-of-type {\n",
       "        vertical-align: middle;\n",
       "    }\n",
       "\n",
       "    .dataframe tbody tr th {\n",
       "        vertical-align: top;\n",
       "    }\n",
       "\n",
       "    .dataframe thead th {\n",
       "        text-align: right;\n",
       "    }\n",
       "</style>\n",
       "<table border=\"1\" class=\"dataframe\">\n",
       "  <thead>\n",
       "    <tr style=\"text-align: right;\">\n",
       "      <th></th>\n",
       "      <th>0</th>\n",
       "    </tr>\n",
       "  </thead>\n",
       "  <tbody>\n",
       "    <tr>\n",
       "      <th>0</th>\n",
       "      <td>NaN</td>\n",
       "    </tr>\n",
       "    <tr>\n",
       "      <th>1</th>\n",
       "      <td>UK</td>\n",
       "    </tr>\n",
       "    <tr>\n",
       "      <th>2</th>\n",
       "      <td>Montgomery County, MD</td>\n",
       "    </tr>\n",
       "    <tr>\n",
       "      <th>3</th>\n",
       "      <td>Los Angeles, CA</td>\n",
       "    </tr>\n",
       "    <tr>\n",
       "      <th>4</th>\n",
       "      <td>Athens,Greece</td>\n",
       "    </tr>\n",
       "    <tr>\n",
       "      <th>...</th>\n",
       "      <td>...</td>\n",
       "    </tr>\n",
       "    <tr>\n",
       "      <th>2751</th>\n",
       "      <td>ÌÏT: 35.223347,-80.827834</td>\n",
       "    </tr>\n",
       "    <tr>\n",
       "      <th>2752</th>\n",
       "      <td>ITALY</td>\n",
       "    </tr>\n",
       "    <tr>\n",
       "      <th>2753</th>\n",
       "      <td>Detroit Tigers Dugout</td>\n",
       "    </tr>\n",
       "    <tr>\n",
       "      <th>2754</th>\n",
       "      <td>Santiago de Cmpostela Galicia</td>\n",
       "    </tr>\n",
       "    <tr>\n",
       "      <th>2755</th>\n",
       "      <td>Rhyme Or Reason?</td>\n",
       "    </tr>\n",
       "  </tbody>\n",
       "</table>\n",
       "<p>2756 rows × 1 columns</p>\n",
       "</div>"
      ],
      "text/plain": [
       "                                  0\n",
       "0                               NaN\n",
       "1                                UK\n",
       "2             Montgomery County, MD\n",
       "3                   Los Angeles, CA\n",
       "4                     Athens,Greece\n",
       "...                             ...\n",
       "2751      ÌÏT: 35.223347,-80.827834\n",
       "2752                          ITALY\n",
       "2753          Detroit Tigers Dugout\n",
       "2754  Santiago de Cmpostela Galicia\n",
       "2755               Rhyme Or Reason?\n",
       "\n",
       "[2756 rows x 1 columns]"
      ]
     },
     "execution_count": 26,
     "metadata": {},
     "output_type": "execute_result"
    }
   ],
   "source": [
    "print(f' Percentage of tweets without a location: ' + \n",
    "      f'{round((1 - train.location.isna().sum() / train.shape[0]) * 100 , 2)}%')\n",
    "\n",
    "pd.DataFrame(train.location.unique())"
   ]
  },
  {
   "cell_type": "markdown",
   "metadata": {},
   "source": [
    "### Baseline model"
   ]
  },
  {
   "cell_type": "markdown",
   "metadata": {},
   "source": [
    "We use CountVectorizer and BernoulliNB to create a baseline model, and get benchmark score against the validation set.\n",
    "\n",
    "Note that the target labels are binary outcomes, so they comrpise a Bernoulli distribution where  𝑝≈0.43 . Therefore accuracy is the chosen metric of performance, since there isn't a huge class imbalance."
   ]
  },
  {
   "cell_type": "markdown",
   "metadata": {},
   "source": [
    "### Training and validation data\n",
    "We will reserve 20% of the training data set and a validation data set to test iterations of the model against."
   ]
  },
  {
   "cell_type": "code",
   "execution_count": 27,
   "metadata": {},
   "outputs": [
    {
     "name": "stdout",
     "output_type": "stream",
     "text": [
      "Train data set contains 6090 samples\n",
      "Validation data set contains 1523 samples\n"
     ]
    }
   ],
   "source": [
    "# Shuffle the index in case there are patterns in the order of the training data:\n",
    "np.random.seed(42)\n",
    "shuffled_ix = list(train_full.index)\n",
    "np.random.shuffle(shuffled_ix)\n",
    "cutoff = int(len(shuffled_ix)*0.8)\n",
    "train = train_full.loc[shuffled_ix[:cutoff]].copy()\n",
    "validation = train_full.loc[shuffled_ix[cutoff:]].copy()\n",
    "\n",
    "print(f'Train data set contains {train.shape[0]} samples')\n",
    "print(f'Validation data set contains {validation.shape[0]} samples')"
   ]
  },
  {
   "cell_type": "code",
   "execution_count": 28,
   "metadata": {},
   "outputs": [],
   "source": [
    "train_data = train.text\n",
    "train_labels = train.target\n",
    "validation_data = validation.text\n",
    "validation_labels = validation.target"
   ]
  },
  {
   "cell_type": "code",
   "execution_count": 29,
   "metadata": {},
   "outputs": [],
   "source": [
    "import numpy as np\n",
    "from sklearn.feature_extraction.text import CountVectorizer\n",
    "from sklearn.metrics import plot_confusion_matrix\n",
    "from sklearn.model_selection import cross_validate\n",
    "from sklearn.naive_bayes import BernoulliNB"
   ]
  },
  {
   "cell_type": "markdown",
   "metadata": {},
   "source": [
    "### Assessing the baseline model"
   ]
  },
  {
   "cell_type": "code",
   "execution_count": 30,
   "metadata": {},
   "outputs": [
    {
     "name": "stdout",
     "output_type": "stream",
     "text": [
      "Bernoulli distribution, p = 0.430\n",
      "Mean accuracy on 5-fold cross validation = 0.802\n",
      "Validation accuracy = 0.793\n"
     ]
    },
    {
     "data": {
      "image/png": "[encoded data removed]",
      "text/plain": [
       "<Figure size 432x288 with 2 Axes>"
      ]
     },
     "metadata": {
      "needs_background": "light"
     },
     "output_type": "display_data"
    }
   ],
   "source": [
    "vec = CountVectorizer()\n",
    "vec.fit(train_data)\n",
    "train_vec = vec.transform(train_data)\n",
    "\n",
    "print(f\"Bernoulli distribution, p = {train_labels.mean():.3f}\")\n",
    "\n",
    "model = BernoulliNB()\n",
    "crossval = cross_validate(model, train_vec, train_labels, cv=5, return_estimator=True)\n",
    "mean_score = crossval[\"test_score\"].mean()\n",
    "print(f\"Mean accuracy on 5-fold cross validation = {mean_score:.3f}\")\n",
    "best_estimator = crossval[\"estimator\"][crossval[\"test_score\"].argmax()]\n",
    "validation_vec = vec.transform(validation_data)\n",
    "validation_score = best_estimator.score(validation_vec, validation_labels)\n",
    "print(f\"Validation accuracy = {validation_score:.3f}\")\n",
    "\n",
    "preds = best_estimator.predict(validation_vec)\n",
    "\n",
    "cm = plot_confusion_matrix(best_estimator, validation_vec, validation_labels)"
   ]
  },
  {
   "cell_type": "markdown",
   "metadata": {},
   "source": [
    "The baseline gives us an accuracy on the validation data set of 0.793, we can see from the confusion matrix that there are a lot of false negatives."
   ]
  },
  {
   "cell_type": "code",
   "execution_count": 31,
   "metadata": {},
   "outputs": [],
   "source": [
    "def false_negatives(labels, preds, original_data, processed_data):\n",
    "    df = pd.DataFrame()\n",
    "    df['original_data'] = original_data\n",
    "    df['processed_data'] = processed_data\n",
    "    df['label'] = labels\n",
    "    df['prediction'] = preds\n",
    "    return df[(df.label == 1) & (df.prediction == 0)]"
   ]
  },
  {
   "cell_type": "code",
   "execution_count": 32,
   "metadata": {},
   "outputs": [],
   "source": [
    "def false_positives(labels, preds, original_data, processed_data):\n",
    "    df = pd.DataFrame()\n",
    "    df['original_data'] = original_data\n",
    "    df['processed_data'] = processed_data\n",
    "    df['label'] = labels\n",
    "    df['prediction'] = preds\n",
    "    return df[(df.label == 0) & (df.prediction == 1)]"
   ]
  },
  {
   "cell_type": "code",
   "execution_count": 43,
   "metadata": {},
   "outputs": [
    {
     "data": {
      "text/html": [
       "<div>\n",
       "<style scoped>\n",
       "    .dataframe tbody tr th:only-of-type {\n",
       "        vertical-align: middle;\n",
       "    }\n",
       "\n",
       "    .dataframe tbody tr th {\n",
       "        vertical-align: top;\n",
       "    }\n",
       "\n",
       "    .dataframe thead th {\n",
       "        text-align: right;\n",
       "    }\n",
       "</style>\n",
       "<table border=\"1\" class=\"dataframe\">\n",
       "  <thead>\n",
       "    <tr style=\"text-align: right;\">\n",
       "      <th></th>\n",
       "      <th>processed_data</th>\n",
       "    </tr>\n",
       "  </thead>\n",
       "  <tbody>\n",
       "    <tr>\n",
       "      <th>1279</th>\n",
       "      <td>Burned dog finds new home with young burn victim http://t.co/Pqrjvgvgxg</td>\n",
       "    </tr>\n",
       "    <tr>\n",
       "      <th>6883</th>\n",
       "      <td>@PyramidHead76 one good thing came out of watching the film.  Was too traumatised to watch show so started Halt &amp;amp; Catch Fire on Amazon. :D</td>\n",
       "    </tr>\n",
       "    <tr>\n",
       "      <th>7138</th>\n",
       "      <td>@MrMikeEaton @Muazimus_Prime hill hill mountain volcano of hell mountain hill hil.</td>\n",
       "    </tr>\n",
       "    <tr>\n",
       "      <th>3156</th>\n",
       "      <td>Gonna call up tomorrow with the aul 'emergency dental appointment' excuse just like the whole tooth falling out incident of last year</td>\n",
       "    </tr>\n",
       "    <tr>\n",
       "      <th>5207</th>\n",
       "      <td>@TheEvilOlives It's the closest structure to the hypo centre that wasn't completely obliterated.</td>\n",
       "    </tr>\n",
       "    <tr>\n",
       "      <th>3310</th>\n",
       "      <td>Sooo police dispatch said there was a person threatening to shoot up the Walmart on Rutherford &amp;amp; they had to evacuate</td>\n",
       "    </tr>\n",
       "    <tr>\n",
       "      <th>3462</th>\n",
       "      <td>oh yeah my ipod almost exploded last night i was using it while charging and shit was sparking akxbskdn almost died</td>\n",
       "    </tr>\n",
       "    <tr>\n",
       "      <th>2161</th>\n",
       "      <td>Bigamist and his 'first' wife are charged in the deaths of his 'second' pregnant wife her child 8 her mothe... http://t.co/rTEuGB5Tnv</td>\n",
       "    </tr>\n",
       "    <tr>\n",
       "      <th>285</th>\n",
       "      <td>And so it begins.. day one of the snow apocalypse</td>\n",
       "    </tr>\n",
       "    <tr>\n",
       "      <th>4524</th>\n",
       "      <td>@Hurricane_Dolce no prob</td>\n",
       "    </tr>\n",
       "  </tbody>\n",
       "</table>\n",
       "</div>"
      ],
      "text/plain": [
       "                                                                                                                                      processed_data\n",
       "1279                                                                         Burned dog finds new home with young burn victim http://t.co/Pqrjvgvgxg\n",
       "6883  @PyramidHead76 one good thing came out of watching the film.  Was too traumatised to watch show so started Halt &amp; Catch Fire on Amazon. :D\n",
       "7138                                                              @MrMikeEaton @Muazimus_Prime hill hill mountain volcano of hell mountain hill hil.\n",
       "3156           Gonna call up tomorrow with the aul 'emergency dental appointment' excuse just like the whole tooth falling out incident of last year\n",
       "5207                                                @TheEvilOlives It's the closest structure to the hypo centre that wasn't completely obliterated.\n",
       "3310                       Sooo police dispatch said there was a person threatening to shoot up the Walmart on Rutherford &amp; they had to evacuate\n",
       "3462                             oh yeah my ipod almost exploded last night i was using it while charging and shit was sparking akxbskdn almost died\n",
       "2161           Bigamist and his 'first' wife are charged in the deaths of his 'second' pregnant wife her child 8 her mothe... http://t.co/rTEuGB5Tnv\n",
       "285                                                                                                And so it begins.. day one of the snow apocalypse\n",
       "4524                                                                                                                        @Hurricane_Dolce no prob"
      ]
     },
     "execution_count": 43,
     "metadata": {},
     "output_type": "execute_result"
    }
   ],
   "source": [
    "false_negatives(validation_labels, preds, validation_data, \n",
    "                validation_data)['processed_data'].to_frame()[:10]"
   ]
  },
  {
   "cell_type": "markdown",
   "metadata": {},
   "source": [
    "In the false positives there are a lot of hyperlinks, punctuation and @ symbols that can be cleaned up."
   ]
  },
  {
   "cell_type": "markdown",
   "metadata": {},
   "source": [
    "## Model 1 - Naive Bayes\n",
    "\n",
    "We will clean the data up and use stemming an lematization to see if we can improve upon the baseline Naive Bayes model."
   ]
  },
  {
   "cell_type": "code",
   "execution_count": 35,
   "metadata": {},
   "outputs": [
    {
     "name": "stderr",
     "output_type": "stream",
     "text": [
      "[nltk_data] Downloading package punkt to\n",
      "[nltk_data]     /Users/ruthashford/nltk_data...\n",
      "[nltk_data]   Package punkt is already up-to-date!\n",
      "[nltk_data] Downloading package wordnet to\n",
      "[nltk_data]     /Users/ruthashford/nltk_data...\n",
      "[nltk_data]   Package wordnet is already up-to-date!\n"
     ]
    }
   ],
   "source": [
    "import re\n",
    "import nltk\n",
    "from nltk.stem import WordNetLemmatizer\n",
    "from nltk.stem.porter import PorterStemmer\n",
    "nltk.download('punkt')\n",
    "nltk.download('wordnet')\n",
    "stemmer = PorterStemmer()\n",
    "lemmer = WordNetLemmatizer()\n",
    "\n",
    "def stem_sentence(text):\n",
    "    token_words=word_tokenize(text)\n",
    "    stem_sentence=[]\n",
    "    for word in token_words:\n",
    "        stem_sentence.append(stemmer.stem(word))\n",
    "        stem_sentence.append(\" \")\n",
    "    return \"\".join(stem_sentence)\n",
    "\n",
    "def lem_sentence(text):\n",
    "    token_words=word_tokenize(text)\n",
    "    stem_sentence=[]\n",
    "    for word in token_words:\n",
    "        stem_sentence.append(lemmer.lemmatize(word, pos='n'))\n",
    "        stem_sentence.append(\" \")\n",
    "    return \"\".join(stem_sentence)\n",
    "\n",
    "def clean_text(text):\n",
    "    text = text.lower()\n",
    "    text = re.sub(r'https?:\\/\\/.*[\\r\\n]*', '', text)\n",
    "    text = re.sub(r'http?:\\/\\/.*[\\r\\n]*', '', text)\n",
    "    text = re.sub(r\"(?:\\@)\\w+\", ' ', text)\n",
    "    text = re.sub(r'[:\"#$%&\\*+,-/:;<=>@\\\\^_`{|}~?!]+',' ',text)\n",
    "    text = re.sub(r\"[']+\",'',text)\n",
    "    \n",
    "    text=text.replace(r'&amp;?',r'and')\n",
    "    text=text.replace(r'&lt;',r'<')\n",
    "    text=text.replace(r'&gt;',r'>')\n",
    "    \n",
    "    text=text.encode(\"ascii\",errors=\"ignore\").decode()\n",
    "\n",
    "    return text\n",
    "\n",
    "def clean_and_lem(text):\n",
    "    return lem_sentence(clean_text(text))\n",
    "\n",
    "def clean_and_stem(text):\n",
    "    return stem_sentence(clean_text(text))"
   ]
  },
  {
   "cell_type": "markdown",
   "metadata": {},
   "source": [
    "### Clean tweets text\n",
    "We clean the text to try to remove anything that adds noise, for example hyperlinks. \n",
    "In addition to this we've added Laplace smoothing to the model (alpha parameter)"
   ]
  },
  {
   "cell_type": "code",
   "execution_count": 36,
   "metadata": {},
   "outputs": [
    {
     "name": "stdout",
     "output_type": "stream",
     "text": [
      "Mean accuracy on 5-fold cross validation = 0.803\n",
      "Validation accuracy = 0.803\n"
     ]
    }
   ],
   "source": [
    "vec = CountVectorizer(analyzer='word', preprocessor=clean_text)\n",
    "vec.fit(train_data)\n",
    "train_vec = vec.transform(train_data)\n",
    "\n",
    "model = BernoulliNB(alpha=0.85)\n",
    "crossval = cross_validate(model, train_vec, train_labels, cv=5, return_estimator=True)\n",
    "mean_score = crossval[\"test_score\"].mean()\n",
    "print(f\"Mean accuracy on 5-fold cross validation = {mean_score:.3f}\")\n",
    "best_estimator = crossval[\"estimator\"][crossval[\"test_score\"].argmax()]\n",
    "validation_vec = vec.transform(validation_data)\n",
    "validation_score = best_estimator.score(validation_vec, validation_labels)\n",
    "print(f\"Validation accuracy = {validation_score:.3f}\")"
   ]
  },
  {
   "cell_type": "markdown",
   "metadata": {},
   "source": [
    "Cleaning the data has improved the accuracy on the validation data set to 0.803"
   ]
  },
  {
   "cell_type": "markdown",
   "metadata": {},
   "source": [
    "### Stemming\n",
    "We use the Porter stemmer to normalize words in the tweets. A stemming algorithm reduces a word to it's root, for example “retrieval”, “retrieved”, “retrieves” reduce to the stem “retrieve”."
   ]
  },
  {
   "cell_type": "code",
   "execution_count": 37,
   "metadata": {},
   "outputs": [
    {
     "name": "stdout",
     "output_type": "stream",
     "text": [
      "Mean accuracy on 5-fold cross validation = 0.802\n",
      "Validation accuracy = 0.802\n"
     ]
    }
   ],
   "source": [
    "vec = CountVectorizer(analyzer='word', preprocessor=clean_and_stem)\n",
    "vec.fit(train_data)\n",
    "train_vec = vec.transform(train_data)\n",
    "\n",
    "model = BernoulliNB(alpha=0.85)\n",
    "crossval = cross_validate(model, train_vec, train_labels, cv=5, return_estimator=True)\n",
    "mean_score = crossval[\"test_score\"].mean()\n",
    "print(f\"Mean accuracy on 5-fold cross validation = {mean_score:.3f}\")\n",
    "best_estimator = crossval[\"estimator\"][crossval[\"test_score\"].argmax()]\n",
    "validation_vec = vec.transform(validation_data)\n",
    "validation_score = best_estimator.score(validation_vec, validation_labels)\n",
    "print(f\"Validation accuracy = {validation_score:.3f}\")"
   ]
  },
  {
   "cell_type": "markdown",
   "metadata": {},
   "source": [
    "Applying stemming to the data after cleaning it has reduced the accuracy of the model slightly, this may be due to overstemming where two words of different meaning are reduced to the same stem."
   ]
  },
  {
   "cell_type": "markdown",
   "metadata": {},
   "source": [
    "### Lemmatization\n",
    "Lemmatization is similar to stemming but it converts a word to it's base form while also taking into account the context of the words. For example using lemmatization, 'caring' gets converted to 'care', whereas when using a stemmer, it will likely get converted to 'car'."
   ]
  },
  {
   "cell_type": "code",
   "execution_count": 38,
   "metadata": {},
   "outputs": [
    {
     "name": "stdout",
     "output_type": "stream",
     "text": [
      "Mean accuracy on 5-fold cross validation = 0.802\n",
      "Validation accuracy = 0.807\n"
     ]
    }
   ],
   "source": [
    "vec = CountVectorizer(analyzer='word', preprocessor=clean_and_lem)\n",
    "vec.fit(train_data)\n",
    "train_vec = vec.transform(train_data)\n",
    "\n",
    "model = BernoulliNB(alpha=0.75)\n",
    "crossval = cross_validate(model, train_vec, train_labels, cv=5, return_estimator=True)\n",
    "mean_score = crossval[\"test_score\"].mean()\n",
    "print(f\"Mean accuracy on 5-fold cross validation = {mean_score:.3f}\")\n",
    "best_estimator = crossval[\"estimator\"][crossval[\"test_score\"].argmax()]\n",
    "validation_vec = vec.transform(validation_data)\n",
    "validation_score = best_estimator.score(validation_vec, validation_labels)\n",
    "print(f\"Validation accuracy = {validation_score:.3f}\")"
   ]
  },
  {
   "cell_type": "markdown",
   "metadata": {},
   "source": [
    "Lemmatizing has been more successful and has increased the validation accuracy to 0.807"
   ]
  },
  {
   "cell_type": "markdown",
   "metadata": {},
   "source": [
    "### Term Frequency - Inverse Document Frequency \n",
    "TFIDF is based on the same bag of words technique as Count Vectorizer but it considers how important the word is. It does this by determining how rare the word is by diving the number of times is appears in the document by the number of times it appears in any document."
   ]
  },
  {
   "cell_type": "code",
   "execution_count": 39,
   "metadata": {},
   "outputs": [
    {
     "name": "stdout",
     "output_type": "stream",
     "text": [
      "Mean accuracy on 5-fold cross validation = 0.803\n",
      "Validation accuracy = 0.806\n"
     ]
    }
   ],
   "source": [
    "from sklearn.feature_extraction.text import TfidfVectorizer\n",
    "\n",
    "vec = TfidfVectorizer(preprocessor=clean_and_lem, encoding='utf-8',\n",
    "                       ngram_range=(1,1),\n",
    "                       max_features=11000, \n",
    "                       norm='l2'\n",
    "                    )\n",
    "vec.fit(train_data)\n",
    "train_vec = vec.transform(train_data)\n",
    "\n",
    "model = BernoulliNB(alpha=0.75)\n",
    "crossval = cross_validate(model, train_vec, train_labels, cv=5, return_estimator=True)\n",
    "mean_score = crossval[\"test_score\"].mean()\n",
    "print(f\"Mean accuracy on 5-fold cross validation = {mean_score:.3f}\")\n",
    "best_estimator = crossval[\"estimator\"][crossval[\"test_score\"].argmax()]\n",
    "validation_vec = vec.transform(validation_data)\n",
    "validation_score = best_estimator.score(validation_vec, validation_labels)\n",
    "print(f\"Validation accuracy = {validation_score:.3f}\")\n"
   ]
  },
  {
   "cell_type": "code",
   "execution_count": 40,
   "metadata": {},
   "outputs": [
    {
     "data": {
      "text/html": [
       "<div>\n",
       "<style scoped>\n",
       "    .dataframe tbody tr th:only-of-type {\n",
       "        vertical-align: middle;\n",
       "    }\n",
       "\n",
       "    .dataframe tbody tr th {\n",
       "        vertical-align: top;\n",
       "    }\n",
       "\n",
       "    .dataframe thead th {\n",
       "        text-align: right;\n",
       "    }\n",
       "</style>\n",
       "<table border=\"1\" class=\"dataframe\">\n",
       "  <thead>\n",
       "    <tr style=\"text-align: right;\">\n",
       "      <th></th>\n",
       "      <th>original_data</th>\n",
       "      <th>processed_data</th>\n",
       "    </tr>\n",
       "  </thead>\n",
       "  <tbody>\n",
       "    <tr>\n",
       "      <th>1279</th>\n",
       "      <td>Burned dog finds new home with young burn victim http://t.co/Pqrjvgvgxg</td>\n",
       "      <td>burned dog find new home with young burn victim</td>\n",
       "    </tr>\n",
       "    <tr>\n",
       "      <th>6883</th>\n",
       "      <td>@PyramidHead76 one good thing came out of watching the film.  Was too traumatised to watch show so started Halt &amp;amp; Catch Fire on Amazon. :D</td>\n",
       "      <td>one good thing came out of watching the film wa too traumatised to watch show so started halt amp catch fire on amazon d</td>\n",
       "    </tr>\n",
       "    <tr>\n",
       "      <th>7138</th>\n",
       "      <td>@MrMikeEaton @Muazimus_Prime hill hill mountain volcano of hell mountain hill hil.</td>\n",
       "      <td>hill hill mountain volcano of hell mountain hill hil</td>\n",
       "    </tr>\n",
       "    <tr>\n",
       "      <th>3156</th>\n",
       "      <td>Gonna call up tomorrow with the aul 'emergency dental appointment' excuse just like the whole tooth falling out incident of last year</td>\n",
       "      <td>gon na call up tomorrow with the aul emergency dental appointment excuse just like the whole tooth falling out incident of last year</td>\n",
       "    </tr>\n",
       "    <tr>\n",
       "      <th>5207</th>\n",
       "      <td>@TheEvilOlives It's the closest structure to the hypo centre that wasn't completely obliterated.</td>\n",
       "      <td>it the closest structure to the hypo centre that wasnt completely obliterated</td>\n",
       "    </tr>\n",
       "    <tr>\n",
       "      <th>3310</th>\n",
       "      <td>Sooo police dispatch said there was a person threatening to shoot up the Walmart on Rutherford &amp;amp; they had to evacuate</td>\n",
       "      <td>sooo police dispatch said there wa a person threatening to shoot up the walmart on rutherford amp they had to evacuate</td>\n",
       "    </tr>\n",
       "    <tr>\n",
       "      <th>3462</th>\n",
       "      <td>oh yeah my ipod almost exploded last night i was using it while charging and shit was sparking akxbskdn almost died</td>\n",
       "      <td>oh yeah my ipod almost exploded last night i wa using it while charging and shit wa sparking akxbskdn almost died</td>\n",
       "    </tr>\n",
       "    <tr>\n",
       "      <th>2161</th>\n",
       "      <td>Bigamist and his 'first' wife are charged in the deaths of his 'second' pregnant wife her child 8 her mothe... http://t.co/rTEuGB5Tnv</td>\n",
       "      <td>bigamist and his first wife are charged in the death of his second pregnant wife her child 8 her mothe</td>\n",
       "    </tr>\n",
       "    <tr>\n",
       "      <th>285</th>\n",
       "      <td>And so it begins.. day one of the snow apocalypse</td>\n",
       "      <td>and so it begin day one of the snow apocalypse</td>\n",
       "    </tr>\n",
       "    <tr>\n",
       "      <th>4524</th>\n",
       "      <td>@Hurricane_Dolce no prob</td>\n",
       "      <td>no prob</td>\n",
       "    </tr>\n",
       "    <tr>\n",
       "      <th>6771</th>\n",
       "      <td>Maybe that's what happens when a tornado meets a volcano</td>\n",
       "      <td>maybe thats what happens when a tornado meet a volcano</td>\n",
       "    </tr>\n",
       "    <tr>\n",
       "      <th>2717</th>\n",
       "      <td>Zayn Malik &amp;amp; Perrie Edwards End Engagement: SheÛªs Û÷DevastatedÛª http://t.co/GedOxSPpL9 http://t.co/ACZRUOrYtD</td>\n",
       "      <td>zayn malik amp perrie edward end engagement shes devastated</td>\n",
       "    </tr>\n",
       "    <tr>\n",
       "      <th>3212</th>\n",
       "      <td>We're #hiring! Click to apply: RN II/EMERGENCY SERVICES/FT/7P-7A - http://t.co/NV3Uxv9IMX #Nursing #Houston TX http://t.co/ej30IhrEA9</td>\n",
       "      <td>were hiring click to apply rn ii emergency service ft 7p 7a</td>\n",
       "    </tr>\n",
       "    <tr>\n",
       "      <th>6707</th>\n",
       "      <td>@HaydnExists so glad i saved them all at once then didnÛªt want you stealing my thunder :P</td>\n",
       "      <td>so glad i saved them all at once then didnt want you stealing my thunder p</td>\n",
       "    </tr>\n",
       "    <tr>\n",
       "      <th>1990</th>\n",
       "      <td>Cleared:  Accident with property damage on #NY35 EB at NY 100</td>\n",
       "      <td>cleared accident with property damage on ny35 eb at ny 100</td>\n",
       "    </tr>\n",
       "    <tr>\n",
       "      <th>5298</th>\n",
       "      <td>@SenateMajLdr let's try to do our best to prevent another outbreak of violence by talking to each other both the people and the politics</td>\n",
       "      <td>let try to do our best to prevent another outbreak of violence by talking to each other both the people and the politics</td>\n",
       "    </tr>\n",
       "    <tr>\n",
       "      <th>3502</th>\n",
       "      <td>You Are Invited to The Expo Explosion Summer Event 2015! \\nWHEN: August 14th Friday 2015\\nWHERE: Ben E Keith... http://t.co/yh4R7Ug21a</td>\n",
       "      <td>you are invited to the expo explosion summer event 2015 when august 14th friday 2015 where ben e keith</td>\n",
       "    </tr>\n",
       "    <tr>\n",
       "      <th>6030</th>\n",
       "      <td>[Report 5] 18:22:45 Ibaraki Prefecture offing M5.5 Depth 60km Maximum seismic intensity 4 #Earthquake</td>\n",
       "      <td>[ report 5 ] 18 22 45 ibaraki prefecture offing m5 5 depth 60km maximum seismic intensity 4 earthquake</td>\n",
       "    </tr>\n",
       "    <tr>\n",
       "      <th>5031</th>\n",
       "      <td>@Lolly_Knickers It's a mudslide. \\nIt's like chewing on a rubber tyre.\\nAnd with those I'm DONE.\\n#vaginaorcake #GBBO</td>\n",
       "      <td>it a mudslide it like chewing on a rubber tyre and with those im done vaginaorcake gbbo</td>\n",
       "    </tr>\n",
       "    <tr>\n",
       "      <th>2872</th>\n",
       "      <td>The Drought Is Real ??????</td>\n",
       "      <td>the drought is real</td>\n",
       "    </tr>\n",
       "  </tbody>\n",
       "</table>\n",
       "</div>"
      ],
      "text/plain": [
       "                                                                                                                                       original_data  \\\n",
       "1279                                                                         Burned dog finds new home with young burn victim http://t.co/Pqrjvgvgxg   \n",
       "6883  @PyramidHead76 one good thing came out of watching the film.  Was too traumatised to watch show so started Halt &amp; Catch Fire on Amazon. :D   \n",
       "7138                                                              @MrMikeEaton @Muazimus_Prime hill hill mountain volcano of hell mountain hill hil.   \n",
       "3156           Gonna call up tomorrow with the aul 'emergency dental appointment' excuse just like the whole tooth falling out incident of last year   \n",
       "5207                                                @TheEvilOlives It's the closest structure to the hypo centre that wasn't completely obliterated.   \n",
       "3310                       Sooo police dispatch said there was a person threatening to shoot up the Walmart on Rutherford &amp; they had to evacuate   \n",
       "3462                             oh yeah my ipod almost exploded last night i was using it while charging and shit was sparking akxbskdn almost died   \n",
       "2161           Bigamist and his 'first' wife are charged in the deaths of his 'second' pregnant wife her child 8 her mothe... http://t.co/rTEuGB5Tnv   \n",
       "285                                                                                                And so it begins.. day one of the snow apocalypse   \n",
       "4524                                                                                                                        @Hurricane_Dolce no prob   \n",
       "6771                                                                                        Maybe that's what happens when a tornado meets a volcano   \n",
       "2717                          Zayn Malik &amp; Perrie Edwards End Engagement: SheÛªs Û÷DevastatedÛª http://t.co/GedOxSPpL9 http://t.co/ACZRUOrYtD   \n",
       "3212           We're #hiring! Click to apply: RN II/EMERGENCY SERVICES/FT/7P-7A - http://t.co/NV3Uxv9IMX #Nursing #Houston TX http://t.co/ej30IhrEA9   \n",
       "6707                                                     @HaydnExists so glad i saved them all at once then didnÛªt want you stealing my thunder :P   \n",
       "1990                                                                                   Cleared:  Accident with property damage on #NY35 EB at NY 100   \n",
       "5298        @SenateMajLdr let's try to do our best to prevent another outbreak of violence by talking to each other both the people and the politics   \n",
       "3502          You Are Invited to The Expo Explosion Summer Event 2015! \\nWHEN: August 14th Friday 2015\\nWHERE: Ben E Keith... http://t.co/yh4R7Ug21a   \n",
       "6030                                           [Report 5] 18:22:45 Ibaraki Prefecture offing M5.5 Depth 60km Maximum seismic intensity 4 #Earthquake   \n",
       "5031                           @Lolly_Knickers It's a mudslide. \\nIt's like chewing on a rubber tyre.\\nAnd with those I'm DONE.\\n#vaginaorcake #GBBO   \n",
       "2872                                                                                                                      The Drought Is Real ??????   \n",
       "\n",
       "                                                                                                                             processed_data  \n",
       "1279                                                                                       burned dog find new home with young burn victim   \n",
       "6883              one good thing came out of watching the film wa too traumatised to watch show so started halt amp catch fire on amazon d   \n",
       "7138                                                                                  hill hill mountain volcano of hell mountain hill hil   \n",
       "3156  gon na call up tomorrow with the aul emergency dental appointment excuse just like the whole tooth falling out incident of last year   \n",
       "5207                                                         it the closest structure to the hypo centre that wasnt completely obliterated   \n",
       "3310                sooo police dispatch said there wa a person threatening to shoot up the walmart on rutherford amp they had to evacuate   \n",
       "3462                     oh yeah my ipod almost exploded last night i wa using it while charging and shit wa sparking akxbskdn almost died   \n",
       "2161                                bigamist and his first wife are charged in the death of his second pregnant wife her child 8 her mothe   \n",
       "285                                                                                         and so it begin day one of the snow apocalypse   \n",
       "4524                                                                                                                               no prob   \n",
       "6771                                                                                maybe thats what happens when a tornado meet a volcano   \n",
       "2717                                                                           zayn malik amp perrie edward end engagement shes devastated   \n",
       "3212                                                                           were hiring click to apply rn ii emergency service ft 7p 7a   \n",
       "6707                                                            so glad i saved them all at once then didnt want you stealing my thunder p   \n",
       "1990                                                                            cleared accident with property damage on ny35 eb at ny 100   \n",
       "5298              let try to do our best to prevent another outbreak of violence by talking to each other both the people and the politics   \n",
       "3502                                you are invited to the expo explosion summer event 2015 when august 14th friday 2015 where ben e keith   \n",
       "6030                                [ report 5 ] 18 22 45 ibaraki prefecture offing m5 5 depth 60km maximum seismic intensity 4 earthquake   \n",
       "5031                                               it a mudslide it like chewing on a rubber tyre and with those im done vaginaorcake gbbo   \n",
       "2872                                                                                                                   the drought is real   "
      ]
     },
     "execution_count": 40,
     "metadata": {},
     "output_type": "execute_result"
    }
   ],
   "source": [
    "false_negatives(validation_labels, preds, validation_data, \n",
    "                validation_data.apply(lambda x: clean_and_lem(x)))[['original_data', 'processed_data']][:20]"
   ]
  },
  {
   "cell_type": "markdown",
   "metadata": {},
   "source": [
    "It's interesting to see a lot of the tweets here that were originally labelled as disasters don't seem to be about disasters, so when examining these it seems like our model may be correctly classifying them as non-disaster tweets. We'll get predictions for the test data set provided by Kaggle using this model and see how it performs."
   ]
  },
  {
   "cell_type": "markdown",
   "metadata": {},
   "source": [
    "### Assessing using the test data set\n"
   ]
  },
  {
   "cell_type": "code",
   "execution_count": 41,
   "metadata": {},
   "outputs": [],
   "source": [
    "test_vec = vec.transform(test['text'])\n",
    "test_preds = best_estimator.predict(test_vec)\n",
    "nb_submission = pd.DataFrame({'id': test.id, 'target': test_preds})\n",
    "#np.savetxt(\"naive_bayes_test_predictions.csv\", test_preds, delimiter=\",\", header=\"target\", \n",
    "      #     fmt=\"%i\")\n",
    "nb_submission.to_csv('naive_bayes_test_predictions.csv', index=False)"
   ]
  },
  {
   "cell_type": "markdown",
   "metadata": {},
   "source": [
    "This submission gave us a Kaggle score of 0.79313"
   ]
  },
  {
   "cell_type": "markdown",
   "metadata": {},
   "source": [
    "## Model 2 - Logistic Regression"
   ]
  },
  {
   "cell_type": "markdown",
   "metadata": {},
   "source": [
    "## Model 3 - Neural Network"
   ]
  },
  {
   "cell_type": "markdown",
   "metadata": {},
   "source": [
    "## Conclusion"
   ]
  }
 ],
 "metadata": {
  "kernelspec": {
   "display_name": "Python 3",
   "language": "python",
   "name": "python3"
  },
  "language_info": {
   "codemirror_mode": {
    "name": "ipython",
    "version": 3
   },
   "file_extension": ".py",
   "mimetype": "text/x-python",
   "name": "python",
   "nbconvert_exporter": "python",
   "pygments_lexer": "ipython3",
   "version": "3.8.3"
  }
 },
 "nbformat": 4,
 "nbformat_minor": 4
}
